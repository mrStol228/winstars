{
  "cells": [
    {
      "cell_type": "markdown",
      "metadata": {
        "id": "CJYpTultfsc9"
      },
      "source": [
        "We'll get our data by scraping for sentences with mountain names"
      ]
    },
    {
      "cell_type": "code",
      "execution_count": 1,
      "metadata": {
        "id": "rrs95rUBMQ2D"
      },
      "outputs": [
        {
          "name": "stderr",
          "output_type": "stream",
          "text": [
            "/home/kyrylo/Code/WinstarsTestTask/lib/python3.10/site-packages/tqdm/auto.py:21: TqdmWarning: IProgress not found. Please update jupyter and ipywidgets. See https://ipywidgets.readthedocs.io/en/stable/user_install.html\n",
            "  from .autonotebook import tqdm as notebook_tqdm\n",
            "2025-02-28 00:06:47.215369: E external/local_xla/xla/stream_executor/cuda/cuda_fft.cc:477] Unable to register cuFFT factory: Attempting to register factory for plugin cuFFT when one has already been registered\n",
            "WARNING: All log messages before absl::InitializeLog() is called are written to STDERR\n",
            "E0000 00:00:1740694007.258381   62164 cuda_dnn.cc:8310] Unable to register cuDNN factory: Attempting to register factory for plugin cuDNN when one has already been registered\n",
            "E0000 00:00:1740694007.267115   62164 cuda_blas.cc:1418] Unable to register cuBLAS factory: Attempting to register factory for plugin cuBLAS when one has already been registered\n"
          ]
        }
      ],
      "source": [
        "import os\n",
        "import pandas as pd\n",
        "import requests\n",
        "from bs4 import BeautifulSoup\n",
        "import csv\n",
        "import evaluate\n",
        "import random\n",
        "import spacy\n",
        "import json\n",
        "from transformers import AutoTokenizer, AutoModelForTokenClassification, DataCollatorForTokenClassification, Trainer, TrainingArguments\n",
        "from datasets import load_dataset\n",
        "from datasets import Dataset"
      ]
    },
    {
      "cell_type": "code",
      "execution_count": 2,
      "metadata": {},
      "outputs": [],
      "source": [
        "DATA_DIR = \"data/raw-img\""
      ]
    },
    {
      "cell_type": "code",
      "execution_count": 3,
      "metadata": {},
      "outputs": [
        {
          "name": "stdout",
          "output_type": "stream",
          "text": [
            "['elephant', 'chicken', 'cat', 'spider', 'dog', 'sheep', 'horse', 'butterfly', 'cow', 'squirrel']\n"
          ]
        }
      ],
      "source": [
        "def get_label_names(data_dir):\n",
        "    data = []\n",
        "    for label in os.listdir(data_dir):\n",
        "        data.append(label)\n",
        "    \n",
        "    return data\n",
        "\n",
        "animal_labels = get_label_names(DATA_DIR)\n",
        "print(animal_labels)"
      ]
    },
    {
      "cell_type": "markdown",
      "metadata": {
        "id": "H-ssUkWyf83S"
      },
      "source": [
        "We'll get the mountain list from wikipedia as it is simple and reliable"
      ]
    },
    {
      "cell_type": "markdown",
      "metadata": {
        "id": "ZvHq7CbpkyWK"
      },
      "source": [
        "We'll get 3 sentences for each mountain, that gives us a nice list of around 4500 sentences"
      ]
    },
    {
      "cell_type": "code",
      "execution_count": null,
      "metadata": {},
      "outputs": [
        {
          "name": "stdout",
          "output_type": "stream",
          "text": [
            "['In Hinduism, they are forbidden to mount a horse, ox, or elephant, although there is no mention of all the skydiving women do in the tampon adverts', 'Plus I am kinda wacked out on pain meds so excuse me if this only makes sense to the pink elephant who is helping me write it', 'A state elephant at a durbar gives one a very similar impression', \"It is the one baht coin with the King's portrait on the obverse and the three-headed elephant on the reverse\", 'The northern elephant seal was hunted to near extinction in the late 19th century, with only a small population remaining on Guadalupe Island', 'Large species such as the tiger, rhinoceros, orangutan, elephant, and leopard, were once abundant as far east as Bali, but numbers and distribution have dwindled drastically', 'A mirror development can be found with the dwarf elephant on Malta, originating from the European species', 'In the menagerie of subcontinental art, the horse and elephant are most common', 'It seemed to me that if I owned an elephant that was a keepsake, and I thought a good deal of him, I would think twice before I would ride him over that bridge', 'The wild aurochs that roamed the old Eurasian continent was midway in size between a modern bull and an elephant, too big, strong and fierce to tame', 'The arrival of the first humans on the island is correlated with the extinction of the Sicilian Hippopotamus and the dwarf elephant', 'The elephant is the largest vegetarian of all, with a sophisticated social life, loving and affectionately caring for its own', \"O'Connell-Rodwell and her colleagues have also begun to study the nuances of elephant signals to distinguish them from the footsteps of rhinoceroses or lions\", 'Aepyornis maximus, known commonly as elephant birds, was found exclusively on the island of Madagascar up until 1,000 when the species became extent', 'The African elephant is the largest living land animal and weighs up to 5,400 kg', 'The elephant is just short of her first birthday and is due to give birth any day!Embarrassed, Nadeem changed the subject to the damage a rogue elephant can do', 'This has been attempted so far as regards the elephant, rhinoceros, giraffe, and eland', 'Subadult elephant seals will sneak into female clusters and try to blend in by pulling in their noses', 'Hunters scoured thick forests today searching for a wild elephant that rampaged through villages on both sides of the India-Nepal border, trampling 12 people to death', 'Plus I am kinda wacked out on pain meds so excuse me if this only makes sense to the pink elephant who is helping me write it', \"For as the mightiest elephant is but a terrier to Leviathan, so, compared with Leviathan's tail, his trunk is but the stalk of a lily\", 'Could the Asian elephant fulfill the same ecological role that elephants played here 13,000 years ago?The Asian elephant featured strongly in Buddhism and Brahminism and the elephants were tamed and domesticated to be able to be used efficiently', \"I've set him an elephant trap\", 'The exhibition will have a philately counter facilitating the cancellation and sale of special covers featuring the Indian elephant and Nilgiri tahr', 'Northern and eastern Bangladesh is home to the Asian elephant, hoolock gibbon, Asian black bear and oriental pied hornbill', 'Next to the elephant, the white rhino is the largest land mammal and can weigh up to 3', 'The species that count the forest as habitat include the bushbaby, elephant shrews and sunbirds, as well as hippos, elephants and lions', 'In addition to these birds, hear the gray wolf, humpback whale, western diamondback rattlesnake, American alligator, African elephant, or smoky jungle frog', 'That evening, we laagered close to a large open area covered with elephant grass about six feet high', 'Leaning sideways and striking a lucifer against the toenails on the elephant foot umbrella stand, Dimpler thoughtfully lit his last Cuban', 'The elephant, which its owner had reared, not for a beast of burden, but for warlike purposes, was half domesticated', \"Most people are surprised when they read that the rock rabbit's nearest relative is the elephant\", 'There are 11 elephant ranges in the country, each consisting of sanctuaries, national parks, protected areas and non-protected areas', 'As Ptolemy Philopater testified of the African elephant, I then testified of the whale, pronouncing him the most devout of all beings', 'One poor fellow had his thigh smashed by a ball from an elephant gun, from which he afterwards died', 'The team was able to use the elephant bird DNA to estimate when the ratite species had separated from each other', 'Other ratites, the elephant bird of Madagascar and the moas of New Zealand, have been extinct for several centuries, probably as a result of human hunting', 'There are rumbustious animal fights and wrestling matches, and Holi is celebrated on horseback, on elephant back, on foot, in a whirl of shifting colours', 'I killed the loathsome bird with the rib-bone of a sea elephant, and Hamilton made a fine specimen of it later on', 'Rodents were successful, and elephant populations increased', 'Exploited species included harp seals, hooded seals, Caspian seals, elephant seals, walruses and all species of fur seal', 'Could the Asian elephant fulfill the same ecological role that elephants played here 13,000 years ago?', 'At the same time, Lusung warriors fought alongside the Siamese king and faced the same elephant army of the Burmese king in the defence of the Siamese capital at Ayuthaya', 'Fur seals, elephant seals, and the great whales were all hunted to the brink of extinction', 'He also won awards for Man and Elephant, the love story of a mahout and an elephant, which was been shown on 100 television channels internationally', 'King Vajiravudh continued to use the three-headed elephant on the reverse of his coins', 'Then he took a step in the direction of the elephant, but Glyn caught him by the arm', 'Breakfast consisted generally of fish, which we caught, or sea elephant in some form, whilst we had tinned fish for lunch', 'The film describes the hunting down of a rogue elephant in Assam', 'You can also use GoldMine in a single-user version, but that would be like killing a fly with an elephant gun', 'When a female elephant seal or grey seal is mounted by an unwanted male, she tries to squirm and get away, while croaking and slapping him with her tail', 'She talked to me about this elephant gun, and explained its mechanism', 'Twopence for carrying a basket of towels and a bathing costume and two elephant sandals all over the island!A milk-white elephant or a camelopard is considered more than a substitute for character, incident, or wit', 'The drivers remain concealed at a little distance, while the koomkies surround the goondah, as this sort of elephant is called', 'Towering thrice as high as the largest African elephant, the diplodocus was now but seventy-five yards away', 'A statue of a young elephant was put in place of a former chalet', \"It is the one baht coin with the King's portrait on the obverse and the three-headed elephant on the reverse\", 'The elephant went on to its knees and tried to roll on top of Fay, repeatedly trying to stab him with her tusks', 'If an amoeba is that large here, what must an elephant look like?There he had half killed an insubordinate young elephant who was shirking his fair share of work', 'They also refused some elephant fish, both raw and dressed, which we offered to them', 'These include the boojum and elephant trees, a bursage with fruits more like a cactus, and such real cacti as the sour pitahaya and cardon', 'He also won awards for Man and Elephant, the love story of a mahout and an elephant, which was been shown on 100 television channels internationally', \"That's especially evident in the sequence with an elephant shrew in Africa\", 'In the evening we anchored in seven fathoms on the north side of sea elephant Rock, which we visited the following morning', 'The great elephant, when the cage was being placed, would, at a signal from its keeper, place its ponderous head against one side of the cage and push', 'Leaning sideways and striking a lucifer against the toenails on the elephant foot umbrella stand, Dimpler thoughtfully lit his last Cuban', 'The blood ivory trade caters to a small but hungry segment in China, yet grassroots efforts for elephant conservation do exist', 'He used a hook in one hand, called an ankhus, to guide the elephant when voice and foot commands were not enough', \"A thirty-thirty is a powerful weapon, but it isn't an elephant gun\", 'King Vajiravudh continued to use the three-headed elephant on the reverse of his coins', 'In the desolate reaches of Africa, the real thrill of hunting a leopard and an elephant is alive and kicking', \"O'Connell-Rodwell and her colleagues have also begun to study the nuances of elephant signals to distinguish them from the footsteps of rhinoceroses or lions\", 'A LIFESIZE steel elephant is one of the many weird and wonderful attractions at a lakeside sculpture park which opens near Rugby this weekend', 'He will never fly at your elephant, or climb a tree, or take to the water after you!The country is fairly open, as there is no thick forest, but only scrub and cogon, or elephant grass', 'Then he took a step in the direction of the elephant, but Glyn caught him by the arm', 'So, for example, if you wanted a red elephant, an orange and blue tiger or a suit with a dinosaur tail and rabbit ears, you can', 'So far, the team placed mammoth genes involved in blood, fat and hair into elephant stem cells in order to study the effects of these genes in laboratory cultured cells', 'It looks like what one would suppose an elephant gun to look like', 'Here Tantor, the elephant, took his long way from dust wallow to water', 'All I know is that an elephant was an animal about the size of one of your gram megatheres', 'Marcel the elephant takes readers on a journey through his life, recounting his memories full of travel and adventure', 'Marcel the elephant takes readers on a journey through his life, recounting his memories full of travel and adventure', 'Three heavy breech-loading double-eight elephant guns, weighing about fifteen pounds each, to carry a charge of eleven drachms of black powder', 'Now, the firedrake is a beast, or bird, about the bigness of an elephant', 'The great elephant, when the cage was being placed, would, at a signal from its keeper, place its ponderous head against one side of the cage and push', 'Royal palms flank a long rectangular pool, a great fallen tree forms a bridge across the water, and heliconias bloom among the elephant ears and banana shrubs', 'For as long as I can remember, he has looked like an elephant, heavy and lumbering with big ears and baggy wrinkled skin', 'Now, the firedrake is a beast, or bird, about the bigness of an elephant', \"Maaximo Riera's elephant chair has been produced using morph metric data to resemble the Asian elephant species\", 'So I felt, great, I went to James Bond and he said no, so I can now go to the doctor from The elephant Man', 'Give me brick elephant lines, one stall to each elephant, and big stumps to tie them to safely, and flat, broad roads to exercise upon, instead of this come-and-go camping', 'Could a new school become a white elephant if parents refuse to send their children there?Last month, Bradford Chamber of Commerce and Industry branded the idea of a Yorkshire assembly as an expensive white elephant', 'New-Haven enjoys an elephant that has corns, and is about to be operated on by a chiropodist', 'Villagers believe the shaman uses black magic to help tame the elephant and sever ties to the mother', 'He threw the elephant gun forward and fired at the centre of the palisade', 'An exception to this is the northern elephant seal, which feeds on fish at great depths in the open ocean', 'The zoo says fourteen-year-old Asian elephant Karishma has turned out to be quite the talented painter since first picking up a brush two years ago', 'It is also one of the best places to watch northern elephant seals in the winter months', \"Accused of being an expensive white elephant, the pressure's been on to re-energise the site\", 'Exploited species included harp seals, hooded seals, Caspian seals, elephant seals, walruses and all species of fur seal', \"Accused of being an expensive white elephant, the pressure's been on to re-energise the site\", \"At a book party at Johnny's half shell on the Hill, Boehner acknowledged the elephant in the room\", 'The wild elephant is now confined to the forests under Hemla, and to the Ghats of Malabar', 'However, in reality the southern Africans have always been in a minority within the African elephant range states', 'Whereas the goat, dog, cow, and cat are domesticated, the antelope, leopard, elephant, waterbuck, manatee, and hippopotamus must be hunted', 'A LIFESIZE steel elephant is one of the many weird and wonderful attractions at a lakeside sculpture park which opens near Rugby this weekend', 'So, for example, if you wanted a red elephant, an orange and blue tiger or a suit with a dinosaur tail and rabbit ears, you can', 'Timbavati is known for its large herds of buffalo and elephant, and the night drives are good for viewing leopards, antbears, porcupines and hyenas', \"I also rode an elephant in a circus as honorary ringmaster, for which I am still bowlegged and have tiny holes in my legs from Dumbo's needle-like hairs\", 'New-Haven enjoys an elephant that has corns, and is about to be operated on by a chiropodist', 'A further displacement from the land is suggested in two tiny etchings of the foetuses of an elephant and a monkey, beautifully worked in aquatint', \"Most people are surprised when they read that the rock rabbit's nearest relative is the elephant\", 'It is also one of the best places to watch northern elephant seals in the winter months', 'In some species, including elephant seals and grey seals, males will try to lay claim to the desired females and defend them from rivals', 'Royal palms flank a long rectangular pool, a great fallen tree forms a bridge across the water, and heliconias bloom among the elephant ears and banana shrubs', \"Maaximo Riera's elephant chair has been produced using morph metric data to resemble the Asian elephant species\", 'The great elephant, when the cage was being placed, would, at a signal from its keeper, place its ponderous head against one side of the cage and push', \"Meanwhile, a Harvard University team is already attempting to study the animals' characteristics by inserting some mammoth genes into Asian elephant stem cells\", 'The African elephant is the largest living land animal and weighs up to 5,400 kg', 'York would gain absolutely nothing in having an airport, except perhaps a huge white elephant that would cost a large amount of money', 'In the same site they also found bones from Komodo dragons and an extinct pygmy elephant called Stegodon', 'Endangered include tapir, guar and banteng, wild buffalo, serow, red dog, Asiatic elephant, and leopard', 'No one but the long-lived elephant could plan and carry through such a war', 'Give me brick elephant lines, one stall to each elephant, and big stumps to tie them to safely, and flat, broad roads to exercise upon, instead of this come-and-go camping', 'elephant', 'The children exclaimed with wonder when they saw the elephant', 'Stumpy, a blue elephant was the mascot for the 2011 World Cup', 'A mirror development can be found with the dwarf elephant on Malta, originating from the European species', 'On either side of it was thick scrub jungle and elephant grass eight feet high', 'In the desolate reaches of Africa, the real thrill of hunting a leopard and an elephant is alive and kicking', 'They also refused some elephant fish, both raw and dressed, which we offered to them', 'A state elephant at a durbar gives one a very similar impression', 'The northern elephant seal was hunted to near extinction in the late 19th century, with only a small population remaining on Guadalupe Island', 'This process is known as polyphyodonty and amongst the other mammals, only occurs in the kangaroo and elephant', 'A bull elephant gave tourists in Thailand more than they bargained for on Sunday when it sat on and rubbed itself along their cars', 'The zoo says fourteen-year-old Asian elephant Karishma has turned out to be quite the talented painter since first picking up a brush two years ago', 'Their work also helps people and many other species of wildlife connected to the Asian elephant including orang-utans, tigers and countless exotic birds', 'Other species protected are southern elephant seals, Ross seals and Antarctic fur seals', 'The fossil record is also poor for moa and the aepyornid elephant birds, in that both are mainly known from remains that date from historical times', \"All the emblems of sovereignty including the chhatra were in place on Father's elephant and war was resumed\", 'Breakfast consisted generally of fish, which we caught, or sea elephant in some form, whilst we had tinned fish for lunch', 'An elephant who will not work and is not tied up is about as manageable as an eightyone-ton gun loose in a heavy seaway', 'The sea elephant season was now in progress, and many rookeries were well formed by the middle of the month', 'There are 11 elephant ranges in the country, each consisting of sanctuaries, national parks, protected areas and non-protected areas', 'A tale of how gassy mysteriously disappeared, and how he came riding home on the back of an elephant', 'Examples from Classical LiteratureCaspar would not have exchanged Fritz for the choicest elephant in all India', 'Rodents were successful, and elephant populations increased', 'Sentence ExamplesElephants, tigers and rhinoceroses are successfully bred at the Way Kambas National Park, which is also famous for its elephant training school', 'If an amoeba is that large here, what must an elephant look like?', 'Bala, who was born in January, 2013, was taken ill over the weekend and was being treated by the elephant and veterinary teams at the zoo', 'Rodents were successful, and elephant populations increased', 'Subadult elephant seals will sneak into female clusters and try to blend in by pulling in their noses', 'These include the boojum and elephant trees, a bursage with fruits more like a cactus, and such real cacti as the sour pitahaya and cardon', \"Maaximo Riera's elephant chair has been produced using morph metric data to resemble the Asian elephant species\", 'In 1914, paleontologist Othenio Abel surmised the origins of the cyclops to be the result of ancient Greeks finding an elephant skull', \"It is the one baht coin with the King's portrait on the obverse and the three-headed elephant on the reverse\", \"Barry Island's elephant, water buffalo and lion What happened to the lion we used to have our photo taken on?\", 'His revenues were rather less than 400 pounds yearly, and they were expended on the maintenance of one elephant and a standing army of five men', 'TopsyBy Michael Daly A tragic tale of a circus elephant who fell victim to human competition and avarice', 'He knew that because it was in the shape of an arch formed by elephant tusks', 'In addition to these birds, hear the gray wolf, humpback whale, western diamondback rattlesnake, American alligator, African elephant, or smoky jungle frog', 'So, for example, if you wanted a red elephant, an orange and blue tiger or a suit with a dinosaur tail and rabbit ears, you can', 'Let us go to the cold and frozen sea, and look at the sea elephant, or Walrus', 'But 19 and 12, though superficially similar in their youthfulness, are diametrically opposed regarding the elephant in the room', 'He threw the elephant gun forward and fired at the centre of the palisade', 'Towering thrice as high as the largest African elephant, the diplodocus was now but seventy-five yards away', 'He will never fly at your elephant, or climb a tree, or take to the water after you!The country is fairly open, as there is no thick forest, but only scrub and cogon, or elephant grass', 'He also won awards for Man and Elephant, the love story of a mahout and an elephant, which was been shown on 100 television channels internationally', \"The rest stay aboard a 233-foot Finnish research vessel, taking day trips to see the island's king penguins, elephant seals, and giant petrels\", 'The exhibition will have a philately counter facilitating the cancellation and sale of special covers featuring the Indian elephant and Nilgiri tahr', 'The princess and elephant puppets were also wonderfully designed with pearl-strewn costumes, jewels, and glittering fabrics', 'Holt Renfrew and Missoni have partnered to create a limited-edition, worldwide-exclusive plush bear and elephant that will support OrphanAid Africa', 'The blood ivory trade caters to a small but hungry segment in China, yet grassroots efforts for elephant conservation do exist', 'This was our caravan, and God Almighty had created the elephant for us', 'I heard that Wambe had a stockade round his kraal made of elephant tusks', 'Two of the largest extant mammals, the elephant and the rhinoceros, are largely hairless', 'The elephant, which its owner had reared, not for a beast of burden, but for warlike purposes, was half domesticated', 'The zoomorphic Hindu god Ganesha has the head of an elephant', 'On the reverse there is an elephant in the center of the Chakra device with stars around the border as above', 'But 19 and 12, though superficially similar in their youthfulness, are diametrically opposed regarding the elephant in the room', 'Royal palms flank a long rectangular pool, a great fallen tree forms a bridge across the water, and heliconias bloom among the elephant ears and banana shrubs', 'The figure of the elephant appears on some of the pillars of Asoka', 'In the desolate reaches of Africa, the real thrill of hunting a leopard and an elephant is alive and kicking', 'No decent soul could be glad that an elephant was shot in a drive-by', 'More impossible even than a sea elephant from that far beach where life was real and Paris a dream', 'The sea elephant season was now in progress, and many rookeries were well formed by the middle of the month', 'Polygynous species include elephant seals, grey seals and most otariids', 'Give me brick elephant lines, one stall to each elephant, and big stumps to tie them to safely, and flat, broad roads to exercise upon, instead of this come-and-go camping', 'New-Haven enjoys an elephant that has corns, and is about to be operated on by a chiropodist', 'The stunning series offers an amazing perspective on their lives, including that of the sengi, a species of elephant shrew that has to eat every three hours, or die', 'In the first half of the 20th century, Kenyan elephant herds were devastated because of demand for ivory, to be used for piano keys', 'But man contemplates the universe as an animalcule would an elephant', 'When you try to chaff people, it is like an elephant dancing on eggshell china', 'It is from this fact that they derive the name of sea elephant', \"Unfortunately, it doesn't require much of an imaginative leap to picture that someday the African elephant could find itself in a similar situation\", 'She had to be put to bed with an elephant dose of tranquilizers', 'The elephant is just short of her first birthday and is due to give birth any day!', 'The driver guns it and launches the behemoth into the air like a flying elephant, whereupon it crashes back down on the wrecked cars', 'However, in reality the southern Africans have always been in a minority within the African elephant range states', 'This was our caravan, and God Almighty had created the elephant for us', 'In 1254, the sheriffs were ordered to subsidise the construction of an elephant house at the Tower', 'Henry also kept a menagerie at the Tower, a tradition begun by his father, and his exotic specimens included an elephant, a leopard and a camel', 'Then he took a step in the direction of the elephant, but Glyn caught him by the arm', 'A LIFESIZE steel elephant is one of the many weird and wonderful attractions at a lakeside sculpture park which opens near Rugby this weekend', 'South Africa too, will seek more leniency in international trade of elephant products', 'Then I fired the elephant gun, which was loaded with slugs, right into the thick of them', \"Like an elephant beset by bees, or the straw that broke the camel's back, this week's swarm of small irritating things could madden even tolerant Taurans\", 'A moment after all four of the party had disappeared in the woods, and the elephant was bearing them away at a rapid pace', 'The enormous nasal passage in the middle of the forehead could have looked like the eye socket of a giant, to those who had never seen a living elephant', 'The search for a substitute for ivory use was not for environmental concerns but based on economic motivation and fear of danger for elephant hunters', 'The elephant shaped litterbin was officially presented to the school in Hemlington in December 1983 to replace the well loved, but well worn, Kermit the Frog bin', 'Thus the elephant, the cheetah and the falcon in the East came under royal protection', 'On the reverse there is an elephant in the center of the Chakra device with stars around the border as above', \"It's different when it's a cheeky meercat, a tiger, elephant or Polar bear\", 'A war elephant described rampaging through Tenochtitlan in a novel about the Aztec Empire would be an anatopism', 'When an elephant is in a proper state to be removed from the keddah, he is conducted either by koomkies or by tame males', 'Two of the largest extant mammals, the elephant and the rhinoceros, are largely hairless', 'Subadult elephant seals will sneak into female clusters and try to blend in by pulling in their noses', \"A ZOO keeper was crushed to death by an elephant yesterday at one of millionaire John Aspinall's controversial wildlife parks\", 'The Asian elephant is threatened by habitat degradation, conflicts and poaching for ivory', 'So far, the team placed mammoth genes involved in blood, fat and hair into elephant stem cells in order to study the effects of these genes in laboratory cultured cells', 'Write letters to the Environment Ministry to persuade officials to protect elephants in their own homes, stop visiting animal circuses and avoid elephant rides', 'A statue of a young elephant was put in place of a former chalet', 'Three heavy breech-loading double-eight elephant guns, weighing about fifteen pounds each, to carry a charge of eleven drachms of black powder', 'African elephant but on national security, regional security, economies and livelihoods', 'I simply adore them, and I should have liked to have a dwarf elephant', 'A state elephant at a durbar gives one a very similar impression', 'Next to the elephant, the white rhino is the largest land mammal and can weigh up to 3', 'By ROBIN GERLACH, founder of Elephant Gin, an artisan gin that donates 15 per cent of its profits to African elephant foundations', 'If she has good luck she will bring us an elephant, or a brace of rhinoceri, or perhaps a few dozen people to stay our hunger', 'Bala, who was born in January, 2013, was taken ill over the weekend and was being treated by the elephant and veterinary teams at the zoo', 'As such, the film stands as a beautiful white elephant, a flagrant waste of time and resources', 'So far, the team placed mammoth genes involved in blood, fat and hair into elephant stem cells in order to study the effects of these genes in laboratory cultured cells', 'Cuyler has a sandy beach and visitors will often find themselves sharing the beach with elephant seals', 'One poor fellow had his thigh smashed by a ball from an elephant gun, from which he afterwards died', \"Accused of being an expensive white elephant, the pressure's been on to re-energise the site\", 'There was a comb made of elephant ivory, a rare and expensive item in Northern England', \"The rest stay aboard a 233-foot Finnish research vessel, taking day trips to see the island's king penguins, elephant seals, and giant petrels\", 'At the same time, Lusung warriors fought alongside the Siamese king and faced the same elephant army of the Burmese king in the defence of the Siamese capital at Ayuthaya', 'The blood ivory trade caters to a small but hungry segment in China, yet grassroots efforts for elephant conservation do exist', 'The fossil record is also poor for moa and the aepyornid elephant birds, in that both are mainly known from remains that date from historical times', 'It is also one of the best places to watch northern elephant seals in the winter months', 'Beside the river-beds are patches of elephant grass, eight to ten feet high, with feathered plumes six feet higher still', 'Also present are elephant, sable antelope, reedbuck, common duiker, blue and vervet monkeys', 'Even with an elephant dose of sedative, the horse was still kicking at him when he tried to clean the wound', 'Marcel the elephant takes readers on a journey through his life, recounting his memories full of travel and adventure', 'They also refused some elephant fish, both raw and dressed, which we offered to them', 'Aepyornis maximus, known commonly as elephant birds, was found exclusively on the island of Madagascar up until 1,000 when the species became extent', 'I heard that Wambe had a stockade round his kraal made of elephant tusks', 'But 19 and 12, though superficially similar in their youthfulness, are diametrically opposed regarding the elephant in the room', 'This was the result of the elephant tamers chaining the animal in order to restrict its movements, when it was very young and impressionable', 'A war elephant described rampaging through Tenochtitlan in a novel about the Aztec Empire would be an anatopism', 'Breakfast consisted generally of fish, which we caught, or sea elephant in some form, whilst we had tinned fish for lunch', 'In the same site they also found bones from Komodo dragons and an extinct pygmy elephant called Stegodon', 'When an elephant is in a proper state to be removed from the keddah, he is conducted either by koomkies or by tame males', 'Mopeds carrying live ducks, roadsides littered with dead snakes, a leopard, an elephant and a rhino were just some of the more unusual sights', 'There was a comb made of elephant ivory, a rare and expensive item in Northern England', 'The use and trade of elephant ivory have become controversial because they have contributed to seriously declining elephant populations in many countries', 'But, overall, the population of the African elephant is in decline', \"Barry Island's elephant, water buffalo and lion What happened to the lion we used to have our photo taken on?A ZOO keeper was crushed to death by an elephant yesterday at one of millionaire John Aspinall's controversial wildlife parks\", 'The second platform surrounds the base of the prang proper, whose closed entranceways are guarded by four statues of the Hindu god Indra on his three-headed elephant Erawan', 'The circus trainer cracked the whip, signaling the elephant to trumpet', \"Meanwhile, a Harvard University team is already attempting to study the animals' characteristics by inserting some mammoth genes into Asian elephant stem cells\", 'Sam revised his private commination service in order to include the elephant gun', \"Still, with Viacom's megabucks behind it, the MTV-Showtime channel remains the lavender elephant in the cable box\", 'The Syrian and North African elephant populations were reduced to extinction, probably due to the demand for ivory in the Classical world', 'He used a hook in one hand, called an ankhus, to guide the elephant when voice and foot commands were not enough', \"That's especially evident in the sequence with an elephant shrew in Africa\", 'A mirror development can be found with the dwarf elephant on Malta, originating from the European species', 'The wild aurochs that roamed the old Eurasian continent was midway in size between a modern bull and an elephant, too big, strong and fierce to tame', 'The last variety of hair seal, the sea elephant, varies considerably from the preceding', 'By ROBIN GERLACH, founder of Elephant Gin, an artisan gin that donates 15 per cent of its profits to African elephant foundations', 'Anyone wanting to find out how a monkey would use a bazooka or if an elephant is a good shot with a machine gun will have all their questions answered', 'The zoo says fourteen-year-old Asian elephant Karishma has turned out to be quite the talented painter since first picking up a brush two years ago', 'It must be dissolved slowly in water, over several days and then filtered to remove traces of Acacia tree bark, elephant hide and rhino horn', 'A moment after all four of the party had disappeared in the woods, and the elephant was bearing them away at a rapid pace', \"Hepzibah's final operation was with the little devourer of Jim Crow and the elephant, who now proposed to eat a camel\", 'Other African countries oppose this position, stating that renewed ivory trading puts their own elephant populations under greater threat from poachers reacting to demand', 'Cuyler has a sandy beach and visitors will often find themselves sharing the beach with elephant seals', 'She had to be put to bed with an elephant dose of tranquilizers', \"Meanwhile, a Harvard University team is already attempting to study the animals' characteristics by inserting some mammoth genes into Asian elephant stem cells\", 'One poor fellow had his thigh smashed by a ball from an elephant gun, from which he afterwards died', \"I've set him an elephant trap\", 'Beside the river-beds are patches of elephant grass, eight to ten feet high, with feathered plumes six feet higher still', 'He delights to sit on a telegraph wire or a stem of elephant grass and there make cheerful melody', 'Then I fired the elephant gun, which was loaded with slugs, right into the thick of them', 'Now, the firedrake is a beast, or bird, about the bigness of an elephant', 'In 1914, paleontologist Othenio Abel surmised the origins of the cyclops to be the result of ancient Greeks finding an elephant skull', 'The last variety of hair seal, the sea elephant, varies considerably from the preceding', 'Their work also helps people and many other species of wildlife connected to the Asian elephant including orang-utans, tigers and countless exotic birds', 'Their work also helps people and many other species of wildlife connected to the Asian elephant including orang-utans, tigers and countless exotic birds', 'The rhytina, the Californian elephant seal, the great auk, and the Labrador duck have already been exterminated', 'The wild aurochs that roamed the old Eurasian continent was midway in size between a modern bull and an elephant, too big, strong and fierce to tame', 'That evening, we laagered close to a large open area covered with elephant grass about six feet high', 'I killed the loathsome bird with the rib-bone of a sea elephant, and Hamilton made a fine specimen of it later on', 'The mammoth or woolly elephant, the hyna, the cave bear, and the reindeer ranged the land', 'As such, the film stands as a beautiful white elephant, a flagrant waste of time and resources', 'Endangered Species Act, the African elephant is listed as a threatened species, and the Asian elephant is listed as an endangered species', 'It looks like what one would suppose an elephant gun to look like', 'The encampment is on the outskirts of a perfectly flat plain, skirted with jungle-clad hills and covered with elephant grass', 'An elephant pulls teak and rosewood logs at the Pak Lay Sawmill', 'At the same time, Lusung warriors fought alongside the Siamese king and faced the same elephant army of the Burmese king in the defence of the Siamese capital at Ayuthaya', 'Twopence for carrying a basket of towels and a bathing costume and two elephant sandals all over the island!', 'The arrival of the first humans on the island is correlated with the extinction of the Sicilian Hippopotamus and the dwarf elephant', 'There are 11 elephant ranges in the country, each consisting of sanctuaries, national parks, protected areas and non-protected areas', 'It is also one of the best places to watch northern elephant seals in the winter months', 'Thus the elephant, the cheetah and the falcon in the East came under royal protection', 'Thus the elephant sept worship ganesh, the elephant-headed god, and also do not kill rats because ganesh rides on this animal', 'The polar bear is among the most sexually dimorphic of mammals, surpassed only by the pinnipeds such as elephant seals', 'The exhibition will have a philately counter facilitating the cancellation and sale of special covers featuring the Indian elephant and Nilgiri tahr', 'The African elephant is the largest living land animal and weighs up to 5,400 kg', 'No one but the long-lived elephant could plan and carry through such a war', 'She had to be put to bed with an elephant dose of tranquilizers', 'His revenues were rather less than 400 pounds yearly, and they were expended on the maintenance of one elephant and a standing army of five men', 'Two of the largest extant mammals, the elephant and the rhinoceros, are largely hairless', 'The second platform surrounds the base of the prang proper, whose closed entranceways are guarded by four statues of the Hindu god Indra on his three-headed elephant Erawan', 'The crater is home to elephant, buffalo, baboon, reedbuck, colobus monkeys, leopard and duikers', \"All the emblems of sovereignty including the chhatra were in place on Father's elephant and war was resumed\", 'The children exclaimed with wonder when they saw the elephant', 'Now, the firedrake is a beast, or bird, about the bigness of an elephant', 'The decision came after several mass slaughters of African elephants, most notably the 2006 Zakouma elephant slaughter in Chad', 'The zoo says fourteen-year-old Asian elephant Karishma has turned out to be quite the talented painter since first picking up a brush two years ago', 'He laughed softly to himself, and then directed Armand to bring forward an elephant gun of the old pattern', 'Must it not be to that famous elephant, with jewelled tusks, and redolent with myrrh, which was led out of an Indian town to do honor to Alexander the Great?And in the meantime Korak wandered slowly westward, coming upon the trail of Tantor, the elephant, whom he overtook browsing in the deep shade of the jungle', 'Sam revised his private commination service in order to include the elephant gun', \"Like an elephant beset by bees, or the straw that broke the camel's back, this week's swarm of small irritating things could madden even tolerant Taurans\", 'The search for a substitute for ivory use was not for environmental concerns but based on economic motivation and fear of danger for elephant hunters', 'The enormous nasal passage in the middle of the forehead could have looked like the eye socket of a giant, to those who had never seen a living elephant', 'Her group is particularly worried for the future of large mammals native to the Himalaya, including the tiger, Asian elephant, and greater one-horned rhinoceros', 'King Vajiravudh continued to use the three-headed elephant on the reverse of his coins', 'Let us go to the cold and frozen sea, and look at the sea elephant, or Walrus', 'In the evening we anchored in seven fathoms on the north side of sea elephant Rock, which we visited the following morning', \"The rest stay aboard a 233-foot Finnish research vessel, taking day trips to see the island's king penguins, elephant seals, and giant petrels\", 'It must be dissolved slowly in water, over several days and then filtered to remove traces of Acacia tree bark, elephant hide and rhino horn', 'That evening, we laagered close to a large open area covered with elephant grass about six feet high', 'The stunning series offers an amazing perspective on their lives, including that of the sengi, a species of elephant shrew that has to eat every three hours, or die', 'The next morning I awoke to the bellows, grunts and snorts of a dozen huge elephant seals wallowing on the black beach below the sleeping dongas', 'Their value as gifts was established as early as 802 when the Abbasid caliph Harun al-Rashid sent an elephant to Charlemagne', 'The stricken elephant was first lifted to her feet by an unrelated matriarch', 'I lived for my packages from home of eggplants and asparagus and tomatoes and broccoli and elephant garlic', 'The mahout used his feet and an ankhus to direct the elephant, as his voice might not be heard in the din of combat', 'A tale of how gassy mysteriously disappeared, and how he came riding home on the back of an elephant', 'If a viable hybrid embryo is obtained, it may be possible to implant it into a female Asian elephant housed in a zoo', 'All told, the walrus is the third largest pinniped species, after the two elephant seals', 'Here Tantor, the elephant, took his long way from dust wallow to water', 'I simply adore them, and I should have liked to have a dwarf elephant', 'Royal palms flank a long rectangular pool, a great fallen tree forms a bridge across the water, and heliconias bloom among the elephant ears and banana shrubs', 'This was our caravan, and God Almighty had created the elephant for us', 'In 1914, paleontologist Othenio Abel surmised the origins of the cyclops to be the result of ancient Greeks finding an elephant skull', 'Breakfast consisted generally of fish, which we caught, or sea elephant in some form, whilst we had tinned fish for lunch', 'It must be dissolved slowly in water, over several days and then filtered to remove traces of Acacia tree bark, elephant hide and rhino horn', 'The elephant, which its owner had reared, not for a beast of burden, but for warlike purposes, was half domesticated', 'The princess and elephant puppets were also wonderfully designed with pearl-strewn costumes, jewels, and glittering fabrics', 'The driver guns it and launches the behemoth into the air like a flying elephant, whereupon it crashes back down on the wrecked cars', 'The enormous nasal passage in the middle of the forehead could have looked like the eye socket of a giant, to those who had never seen a living elephant', \"Barry Island's elephant, water buffalo and lion What happened to the lion we used to have our photo taken on?A ZOO keeper was crushed to death by an elephant yesterday at one of millionaire John Aspinall's controversial wildlife parks\", 'Northern and eastern Bangladesh is home to the Asian elephant, hoolock gibbon, Asian black bear and oriental pied hornbill', 'The children exclaimed with wonder when they saw the elephant', 'In 1254, the sheriffs were ordered to subsidise the construction of an elephant house at the Tower', 'Africans, for example, were criticized for not taming the elephant, which had proved so valuable in Asia', 'In the first half of the 20th century, Kenyan elephant herds were devastated because of demand for ivory, to be used for piano keys', \"The rest stay aboard a 233-foot Finnish research vessel, taking day trips to see the island's king penguins, elephant seals, and giant petrels\", 'But, overall, the population of the African elephant is in decline', 'No decent soul could be glad that an elephant was shot in a drive-by', 'Then again, we thought elephant cord flares, Goblin Teasmades and powdered mash was too-cool-for-school back then too', 'He was like an elephant in his hugeness, and suppleness, his dangerousness, and his gentleness', \"All the emblems of sovereignty including the chhatra were in place on Father's elephant and war was resumed\", 'Sentence ExamplesElephants, tigers and rhinoceroses are successfully bred at the Way Kambas National Park, which is also famous for its elephant training school', 'Holt Renfrew and Missoni have partnered to create a limited-edition, worldwide-exclusive plush bear and elephant that will support OrphanAid Africa', 'Write letters to the Environment Ministry to persuade officials to protect elephants in their own homes, stop visiting animal circuses and avoid elephant rides', 'I yelled, setting the example by letting off both barrels of my elephant gun into the thickest part of the company opposite to me', 'Fur seals, elephant seals, and the great whales were all hunted to the brink of extinction', \"I also rode an elephant in a circus as honorary ringmaster, for which I am still bowlegged and have tiny holes in my legs from Dumbo's needle-like hairs\", 'The audience went mad with excitement when the elephant stepped on to the stage', 'Mopeds carrying live ducks, roadsides littered with dead snakes, a leopard, an elephant and a rhino were just some of the more unusual sights', \"Unfortunately, it doesn't require much of an imaginative leap to picture that someday the African elephant could find itself in a similar situation\", 'As Ptolemy Philopater testified of the African elephant, I then testified of the whale, pronouncing him the most devout of all beings', 'When you try to chaff people, it is like an elephant dancing on eggshell china', \"Maaximo Riera's elephant chair has been produced using morph metric data to resemble the Asian elephant species\", 'There are many possibilities, especially for comparative research in mole rats, agouti, gerbils and elephant shrews', 'He knew that because it was in the shape of an arch formed by elephant tusks', 'The yet unamed baby African elephant is only the second calf in the world to be born in such extraordinary circumstances', 'The yet unamed baby African elephant is only the second calf in the world to be born in such extraordinary circumstances', 'There he had half killed an insubordinate young elephant who was shirking his fair share of work', 'Exploited species included harp seals, hooded seals, Caspian seals, elephant seals, walruses and all species of fur seal', 'No decent soul could be glad that an elephant was shot in a drive-by', 'At the Andaman Islands in the Indian Ocean, you can snorkel with a retired Asian elephant Rajan', 'The elephant was, however, no emptier than the cottages about which our friends strolled', 'Kosik the elephant often talks back when his keeper asks him to do something', 'There are rumbustious animal fights and wrestling matches, and Holi is celebrated on horseback, on elephant back, on foot, in a whirl of shifting colours', 'A moment after all four of the party had disappeared in the woods, and the elephant was bearing them away at a rapid pace', 'Hunters scoured thick forests today searching for a wild elephant that rampaged through villages on both sides of the India-Nepal border, trampling 12 people to death', 'A further displacement from the land is suggested in two tiny etchings of the foetuses of an elephant and a monkey, beautifully worked in aquatint', 'Three heavy breech-loading double-eight elephant guns, weighing about fifteen pounds each, to carry a charge of eleven drachms of black powder', 'The decision came after several mass slaughters of African elephants, most notably the 2006 Zakouma elephant slaughter in Chad', 'For as long as I can remember, he has looked like an elephant, heavy and lumbering with big ears and baggy wrinkled skin', 'Other ratites, the elephant bird of Madagascar and the moas of New Zealand, have been extinct for several centuries, probably as a result of human hunting', 'The decision came after several mass slaughters of African elephants, most notably the 2006 Zakouma elephant slaughter in Chad', 'The Syrian and North African elephant populations were reduced to extinction, probably due to the demand for ivory in the Classical world', 'More impossible even than a sea elephant from that far beach where life was real and Paris a dream', 'Fill it with bottled herbs, flavored vinegars, elephant garlic and a handheld lemon squeezer', 'It was an 18-month, gruelling journey for the elephant which was rechristened Sultan Suleyman by the king after the great enemy of Europe in those days', 'Polygynous species include elephant seals, grey seals and most otariids', 'The children exclaimed with wonder when they saw the elephant', \"At a book party at Johnny's half shell on the Hill, Boehner acknowledged the elephant in the room\", 'The second platform surrounds the base of the prang proper, whose closed entranceways are guarded by four statues of the Hindu god Indra on his three-headed elephant Erawan', 'The rhytina, the Californian elephant seal, the great auk, and the Labrador duck have already been exterminated', 'But presently I guessed the identity of the mighty creature as Elephas africanus, or, as the ancients commonly described it, African elephant', 'TopsyBy Michael Daly A tragic tale of a circus elephant who fell victim to human competition and avarice', 'The next morning I awoke to the bellows, grunts and snorts of a dozen huge elephant seals wallowing on the black beach below the sleeping dongas', 'She talked to me about this elephant gun, and explained its mechanism', 'In Hinduism, they are forbidden to mount a horse, ox, or elephant, although there is no mention of all the skydiving women do in the tampon adverts', 'Her group is particularly worried for the future of large mammals native to the Himalaya, including the tiger, Asian elephant, and greater one-horned rhinoceros', 'New-Haven enjoys an elephant that has corns, and is about to be operated on by a chiropodist', 'The mahouts would have steered pairs of kookies so as to separate a grown elephant from the herd, squeezing in on either side', 'No decent soul could be glad that an elephant was shot in a drive-by', 'He used a hook in one hand, called an ankhus, to guide the elephant when voice and foot commands were not enough', 'From around one corner of the shrine another priest appeared sitting astride a huge elephant', 'The crater is home to elephant, buffalo, baboon, reedbuck, colobus monkeys, leopard and duikers', 'The elephant is the largest vegetarian of all, with a sophisticated social life, loving and affectionately caring for its own', 'Large species such as the tiger, rhinoceros, orangutan, elephant, and leopard, were once abundant as far east as Bali, but numbers and distribution have dwindled drastically', 'The next morning I awoke to the bellows, grunts and snorts of a dozen huge elephant seals wallowing on the black beach below the sleeping dongas', \"It won't risk damaging itself by joining battle with typical prey, such as an elephant seal\", 'Thus the elephant sept worship ganesh, the elephant-headed god, and also do not kill rats because ganesh rides on this animal', 'The projects are based on finding suitable mammoth DNA in frozen bodies, sequencing its genome and, if possible, gradually combining the DNA with elephant cells', 'I killed the loathsome bird with the rib-bone of a sea elephant, and Hamilton made a fine specimen of it later on', 'Let us go to the cold and frozen sea, and look at the sea elephant, or Walrus', 'In a fatefully unlucky moment he began to try to be an elephant, and thenceforward happiness forsook him', 'It was an 18-month, gruelling journey for the elephant which was rechristened Sultan Suleyman by the king after the great enemy of Europe in those days', 'He also won awards for Man and Elephant, the love story of a mahout and an elephant, which was been shown on 100 television channels internationally', 'Then I fired the elephant gun, which was loaded with slugs, right into the thick of them', 'In the evening we anchored in seven fathoms on the north side of sea elephant Rock, which we visited the following morning', 'TopsyBy Michael Daly A tragic tale of a circus elephant who fell victim to human competition and avarice', 'The team was able to use the elephant bird DNA to estimate when the ratite species had separated from each other', 'In a fatefully unlucky moment he began to try to be an elephant, and thenceforward happiness forsook him', 'Warning bells went off for locals in the 1970s after a deluge of visitors discovered the elephant seal rookery', 'The figure of the elephant appears on some of the pillars of Asoka', 'When a female elephant seal or grey seal is mounted by an unwanted male, she tries to squirm and get away, while croaking and slapping him with her tail', \"Meanwhile, a Harvard University team is already attempting to study the animals' characteristics by inserting some mammoth genes into Asian elephant stem cells\", 'The fossil record is also poor for moa and the aepyornid elephant birds, in that both are mainly known from remains that date from historical times', 'In a fatefully unlucky moment he began to try to be an elephant, and thenceforward happiness forsook him', 'Another incident occurred in September, when a married couple were killed after they were attacked by an elephant in Pandan Wangi, Indragiri regency, Riau', 'Sam revised his private commination service in order to include the elephant gun', 'It describes the elephant and hippopotamus in detail, as well as the value and origin of the pearl and the invention of fish farming and oyster farming', 'Rodents were successful, and elephant populations increased', \"I also rode an elephant in a circus as honorary ringmaster, for which I am still bowlegged and have tiny holes in my legs from Dumbo's needle-like hairs\", 'There was a comb made of elephant ivory, a rare and expensive item in Northern England', 'More impossible even than a sea elephant from that far beach where life was real and Paris a dream', 'Twopence for carrying a basket of towels and a bathing costume and two elephant sandals all over the island!A milk-white elephant or a camelopard is considered more than a substitute for character, incident, or wit', 'On either side of it was thick scrub jungle and elephant grass eight feet high', 'The film describes the hunting down of a rogue elephant in Assam', 'But, overall, the population of the African elephant is in decline', 'Warning bells went off for locals in the 1970s after a deluge of visitors discovered the elephant seal rookery', 'As Ptolemy Philopater testified of the African elephant, I then testified of the whale, pronouncing him the most devout of all beings', 'The zoomorphic Hindu god Ganesha has the head of an elephant', 'And finally tonight, an elephant at a safari park in England gave visitors something of a surprise', 'Leaning sideways and striking a lucifer against the toenails on the elephant foot umbrella stand, Dimpler thoughtfully lit his last Cuban', 'The elephant is just short of her first birthday and is due to give birth any day!Embarrassed, Nadeem changed the subject to the damage a rogue elephant can do', 'If she has good luck she will bring us an elephant, or a brace of rhinoceri, or perhaps a few dozen people to stay our hunger', 'The wild aurochs that roamed the old Eurasian continent was midway in size between a modern bull and an elephant, too big, strong and fierce to tame', 'Then he took a step in the direction of the elephant, but Glyn caught him by the arm', 'The heavy tread of the elephant was like clouds brushing the crests of the forest', 'The mahouts would have steered pairs of kookies so as to separate a grown elephant from the herd, squeezing in on either side', 'Kosik the elephant often talks back when his keeper asks him to do something', 'Let us go to the cold and frozen sea, and look at the sea elephant, or Walrus', 'He laughed softly to himself, and then directed Armand to bring forward an elephant gun of the old pattern', 'Lacking context, the folklore artifacts in the Smithsonian Folklife Archive contain as much life as the stuffed elephant down the street in the Natural History Museum', 'I simply adore them, and I should have liked to have a dwarf elephant', 'The projects are based on finding suitable mammoth DNA in frozen bodies, sequencing its genome and, if possible, gradually combining the DNA with elephant cells', 'Also present are elephant, sable antelope, reedbuck, common duiker, blue and vervet monkeys', 'Stumpy, a blue elephant was the mascot for the 2011 World Cup', 'In the first half of the 20th century, Kenyan elephant herds were devastated because of demand for ivory, to be used for piano keys', 'Fill it with bottled herbs, flavored vinegars, elephant garlic and a handheld lemon squeezer', 'Then again, we thought elephant cord flares, Goblin Teasmades and powdered mash was too-cool-for-school back then too', 'I yelled, setting the example by letting off both barrels of my elephant gun into the thickest part of the company opposite to me', 'The elephant shaped litterbin was officially presented to the school in Hemlington in December 1983 to replace the well loved, but well worn, Kermit the Frog bin', 'The search for a substitute for ivory use was not for environmental concerns but based on economic motivation and fear of danger for elephant hunters', 'Stumpy, a blue elephant was the mascot for the 2011 World Cup', 'Other ratites, the elephant bird of Madagascar and the moas of New Zealand, have been extinct for several centuries, probably as a result of human hunting', 'Polygynous species include elephant seals, grey seals and most otariids', 'The rhytina, the Californian elephant seal, the great auk, and the Labrador duck have already been exterminated', 'So far, the team placed mammoth genes involved in blood, fat and hair into elephant stem cells in order to study the effects of these genes in laboratory cultured cells', 'His revenues were rather less than 400 pounds yearly, and they were expended on the maintenance of one elephant and a standing army of five men', 'But 19 and 12, though superficially similar in their youthfulness, are diametrically opposed regarding the elephant in the room', 'The exhibition includes a South African ficus, a tamarind with pods, elephant grass from Africa, cherry, bougainvillaea, fig, Accacia and trees collected from forests', 'It is from this fact that they derive the name of sea elephant', 'Embarrassed, Nadeem changed the subject to the damage a rogue elephant can do', 'The monarch-attracting butterflyweed, verbena, lantana, ornamental grass, dietes, daylilies, black elephant ears and white-topped sedge set a natural stage for the water', 'A statue of a young elephant was put in place of a former chalet', \"I also rode an elephant in a circus as honorary ringmaster, for which I am still bowlegged and have tiny holes in my legs from Dumbo's needle-like hairs\", 'Give me brick elephant lines, one stall to each elephant, and big stumps to tie them to safely, and flat, broad roads to exercise upon, instead of this come-and-go camping', 'The princess and elephant puppets were also wonderfully designed with pearl-strewn costumes, jewels, and glittering fabrics', \"A thirty-thirty is a powerful weapon, but it isn't an elephant gun\", 'By ROBIN GERLACH, founder of Elephant Gin, an artisan gin that donates 15 per cent of its profits to African elephant foundations', 'Examples from Classical LiteratureCaspar would not have exchanged Fritz for the choicest elephant in all India', 'Even with an elephant dose of sedative, the horse was still kicking at him when he tried to clean the wound', 'Timbavati is known for its large herds of buffalo and elephant, and the night drives are good for viewing leopards, antbears, porcupines and hyenas', 'Her group is particularly worried for the future of large mammals native to the Himalaya, including the tiger, Asian elephant, and greater one-horned rhinoceros', 'The Asian elephant is threatened by habitat degradation, conflicts and poaching for ivory', 'This process is known as polyphyodonty and amongst the other mammals, only occurs in the kangaroo and elephant']\n",
            "500\n"
          ]
        }
      ],
      "source": [
        "def get_wordhippo_sentences(required_word, exclude_words, num_sentences=3):\n",
        "    url = f\"https://www.wordhippo.com/what-is/sentences-with-the-word/{required_word}.html\"\n",
        "    headers = {\n",
        "        'User-Agent': 'Mozilla/5.0 (Windows NT 10.0; Win64; x64) AppleWebKit/537.36 (KHTML, like Gecko) Chrome/91.0.4472.124 Safari/537.36'\n",
        "    }\n",
        "\n",
        "    response = requests.get(url, headers=headers)\n",
        "    if response.status_code != 200:\n",
        "        print(f\"Failed to retrieve data for '{required_word}'. Status code: {response.status_code}\")\n",
        "        return []\n",
        "\n",
        "    soup = BeautifulSoup(response.text, 'html.parser')\n",
        "    sentence_tds = soup.find_all('td')\n",
        "\n",
        "    raw_sentences = [\n",
        "        td.get_text(strip=False)\n",
        "        for td in sentence_tds\n",
        "        if required_word.lower() in td.get_text(strip=False).lower()\n",
        "    ]\n",
        "\n",
        "    replaced = [txt.replace('\\n', '') for txt in raw_sentences]\n",
        "\n",
        "    splitted = []\n",
        "    for txt in replaced:\n",
        "        sub_sents = txt.split('.')\n",
        "        sub_sents = [s.strip() for s in sub_sents if s.strip()]\n",
        "        splitted.extend(sub_sents)\n",
        "    \n",
        "    included = [\n",
        "        s for s in splitted\n",
        "        if required_word.lower() in s.lower()\n",
        "    ]\n",
        "\n",
        "    final_sentences = []\n",
        "    for s in included:\n",
        "        if any(exw.lower() in s.lower() for exw in exclude_words):\n",
        "            continue \n",
        "        final_sentences.append(s)\n",
        "\n",
        "    if len(final_sentences) > num_sentences:\n",
        "        final_sentences = random.sample(final_sentences, num_sentences)\n",
        "\n",
        "    return final_sentences\n",
        "\n",
        "animal_name = \"elephant\"\n",
        "exclude_words = [\"translate\", \"sentences\"]\n",
        "sentences = get_wordhippo_sentences(animal_name, exclude_words, num_sentences=500)\n",
        "print(sentences)\n",
        "print(len(sentences))"
      ]
    },
    {
      "cell_type": "code",
      "execution_count": null,
      "metadata": {},
      "outputs": [],
      "source": [
        "animal_names_sentences = []\n",
        "for animal in animal_labels:\n",
        "    animal_names_sentences = animal_names_sentences + get_wordhippo_sentences(animal, exclude_words, num_sentences=300)\n"
      ]
    },
    {
      "cell_type": "code",
      "execution_count": null,
      "metadata": {},
      "outputs": [
        {
          "name": "stdout",
          "output_type": "stream",
          "text": [
            "3000\n",
            "['No decent soul could be glad that an elephant was shot in a drive-by', 'The use and trade of elephant ivory have become controversial because they have contributed to seriously declining elephant populations in many countries', 'The mammoth or woolly elephant, the hyna, the cave bear, and the reindeer ranged the land', 'The boy possesses the uncanny ability to eat like an elephant and remain as skinny as a stick', 'York would gain absolutely nothing in having an airport, except perhaps a huge white elephant that would cost a large amount of money']\n"
          ]
        }
      ],
      "source": [
        "print(len(animal_names_sentences))\n",
        "print(animal_names_sentences[0:5])"
      ]
    },
    {
      "cell_type": "code",
      "execution_count": null,
      "metadata": {},
      "outputs": [],
      "source": [
        "with open('animal_sentences.csv', 'w', newline='', encoding='utf-8') as f:\n",
        "    writer = csv.writer(f)\n",
        "    for sentence in animal_names_sentences:\n",
        "        writer.writerow([sentence])"
      ]
    },
    {
      "cell_type": "code",
      "execution_count": 4,
      "metadata": {},
      "outputs": [
        {
          "name": "stdout",
          "output_type": "stream",
          "text": [
            "{0: 'O', 1: 'B-ELEPHANT', 2: 'B-CHICKEN', 3: 'B-CAT', 4: 'B-SPIDER', 5: 'B-DOG', 6: 'B-SHEEP', 7: 'B-HORSE', 8: 'B-BUTTERFLY', 9: 'B-COW', 10: 'B-SQUIRREL'}\n",
            "{'O': 0, 'B-ELEPHANT': 1, 'B-CHICKEN': 2, 'B-CAT': 3, 'B-SPIDER': 4, 'B-DOG': 5, 'B-SHEEP': 6, 'B-HORSE': 7, 'B-BUTTERFLY': 8, 'B-COW': 9, 'B-SQUIRREL': 10}\n",
            "{'O': 0, 'B-ELEPHANT': 1, 'B-CHICKEN': 2, 'B-CAT': 3, 'B-SPIDER': 4, 'B-DOG': 5, 'B-SHEEP': 6, 'B-HORSE': 7, 'B-BUTTERFLY': 8, 'B-COW': 9, 'B-SQUIRREL': 10}\n"
          ]
        }
      ],
      "source": [
        "labels = [\"O\"] + [f\"B-{animal.upper()}\" for animal in animal_labels]\n",
        "id2label = {i: label for i, label in enumerate(labels)}\n",
        "label2id = {label: i for i, label in enumerate(labels)}\n",
        "print(id2label)\n",
        "print(label2id)\n",
        "print(label2id)"
      ]
    },
    {
      "cell_type": "code",
      "execution_count": 6,
      "metadata": {},
      "outputs": [],
      "source": [
        "nlp = spacy.load(\"en_core_web_sm\")"
      ]
    },
    {
      "cell_type": "code",
      "execution_count": null,
      "metadata": {},
      "outputs": [],
      "source": [
        "def annotate_sentence_to_json(sentence, sent_id=0):\n",
        "    doc = nlp(sentence)\n",
        "    tokens = []\n",
        "    ner_tags = []\n",
        "    \n",
        "    for token in doc:\n",
        "        tokens.append(token.text)\n",
        "        if token.text.lower() in animal_labels:\n",
        "            label = f\"B-{token.text.lower().upper()}\"  # e.g. B-DOG, B-CAT\n",
        "        else:\n",
        "            label = \"O\"\n",
        "        ner_tags.append(label2id.get(label, 0))  # default to 0 if not found\n",
        "    \n",
        "    return {\n",
        "        \"id\": sent_id,\n",
        "        \"tokens\": tokens,\n",
        "        \"ner_tags\": ner_tags\n",
        "    }\n",
        "\n",
        "def annotate_and_save_json(input_csv, output_file):\n",
        "    data = []\n",
        "    with open(input_csv, \"r\", encoding=\"utf-8\", newline=\"\") as fin:\n",
        "        reader = csv.reader(fin)\n",
        "        for i, row in enumerate(reader):\n",
        "            if not row:  \n",
        "                continue\n",
        "            sentence = row[0].strip()\n",
        "            if not sentence:\n",
        "                continue\n",
        "\n",
        "            data.append(annotate_sentence_to_json(sentence, sent_id=i))\n",
        "\n",
        "    with open(output_file, \"w\", encoding=\"utf-8\") as fout:\n",
        "        json.dump(data, fout, indent=2)\n",
        "    \n",
        "    with open(output_file, \"w\", encoding=\"utf-8\") as fout:\n",
        "        json.dump(data, fout, indent=2)"
      ]
    },
    {
      "cell_type": "code",
      "execution_count": null,
      "metadata": {},
      "outputs": [],
      "source": [
        "annotate_and_save_json(\"animal_sentences.csv\", \"bert_annotations.json\")"
      ]
    },
    {
      "cell_type": "code",
      "execution_count": 5,
      "metadata": {},
      "outputs": [],
      "source": [
        "tokenizer = AutoTokenizer.from_pretrained(\"bert-base-cased\")\n",
        "\n",
        "def tokenize_and_align_labels(example):\n",
        "    tokenized = tokenizer(\n",
        "        example[\"tokens\"],\n",
        "        is_split_into_words=True,\n",
        "        truncation=True\n",
        "    )\n",
        "    \n",
        "    # Align labels to subword tokens\n",
        "    word_ids = tokenized.word_ids()  # subword -> index of original word\n",
        "    original_labels = example[\"ner_tags\"]\n",
        "\n",
        "    label_ids = []\n",
        "    for word_id in word_ids:\n",
        "        if word_id is None:\n",
        "            label_ids.append(-100)\n",
        "        else:\n",
        "            label_ids.append(original_labels[word_id])\n",
        "    \n",
        "    tokenized[\"labels\"] = label_ids\n",
        "    return tokenized\n"
      ]
    },
    {
      "cell_type": "code",
      "execution_count": 6,
      "metadata": {},
      "outputs": [],
      "source": [
        "with open(\"bert_annotations.json\", \"r\", encoding=\"utf-8\") as f:\n",
        "    data_list = json.load(f)  # 'data_list' is a list of dicts\n",
        "\n",
        "hf_dataset = Dataset.from_list(data_list)"
      ]
    },
    {
      "cell_type": "code",
      "execution_count": 7,
      "metadata": {},
      "outputs": [
        {
          "name": "stderr",
          "output_type": "stream",
          "text": [
            "Map: 100%|██████████| 3000/3000 [00:01<00:00, 1508.05 examples/s]\n"
          ]
        }
      ],
      "source": [
        "dataset = hf_dataset.map(tokenize_and_align_labels)\n",
        "dataset = dataset.shuffle(seed=42)\n",
        "\n",
        "train_test = dataset.train_test_split(test_size=0.2)\n",
        "train_dataset = train_test[\"train\"]\n",
        "temp_dataset = train_test[\"test\"]\n",
        "\n",
        "val_test = temp_dataset.train_test_split(test_size=0.5)\n",
        "val_dataset = val_test[\"train\"]\n",
        "test_dataset = val_test[\"test\"]"
      ]
    },
    {
      "cell_type": "code",
      "execution_count": 8,
      "metadata": {},
      "outputs": [
        {
          "name": "stderr",
          "output_type": "stream",
          "text": [
            "2025-02-28 00:07:39.217503: E external/local_xla/xla/stream_executor/cuda/cuda_driver.cc:152] failed call to cuInit: INTERNAL: CUDA error: Failed call to cuInit: UNKNOWN ERROR (303)\n",
            "All TF 2.0 model weights were used when initializing BertForTokenClassification.\n",
            "\n",
            "All the weights of BertForTokenClassification were initialized from the TF 2.0 model.\n",
            "If your task is similar to the task the model of the checkpoint was trained on, you can already use BertForTokenClassification for predictions without further training.\n"
          ]
        }
      ],
      "source": [
        "model = AutoModelForTokenClassification.from_pretrained(\n",
        "    \"bert-base-cased\",\n",
        "    num_labels=len(labels),\n",
        "    id2label=id2label,\n",
        "    label2id=label2id,\n",
        "    from_tf=True\n",
        ")"
      ]
    },
    {
      "cell_type": "code",
      "execution_count": 9,
      "metadata": {},
      "outputs": [],
      "source": [
        "data_collator = DataCollatorForTokenClassification(tokenizer=tokenizer)"
      ]
    },
    {
      "cell_type": "code",
      "execution_count": 10,
      "metadata": {},
      "outputs": [],
      "source": [
        "metric = evaluate.load(\"seqeval\")\n",
        "\n",
        "def compute_metrics(eval_preds):\n",
        "    logits, labels = eval_preds\n",
        "    predictions = logits.argmax(-1)\n",
        "\n",
        "    true_predictions = []\n",
        "    true_labels      = []\n",
        "    for pred, lab in zip(predictions, labels):\n",
        "        tmp_pred = []\n",
        "        tmp_lab  = []\n",
        "        for p, l in zip(pred, lab):\n",
        "            if l != -100:\n",
        "                tmp_pred.append(p)\n",
        "                tmp_lab.append(l)\n",
        "        true_predictions.append(tmp_pred)\n",
        "        true_labels.append(tmp_lab)\n",
        "\n",
        "    # Convert IDs to label strings\n",
        "    true_predictions_str = [\n",
        "        [id2label[p] for p in pred_seq] for pred_seq in true_predictions\n",
        "    ]\n",
        "    true_labels_str = [\n",
        "        [id2label[l] for l in lab_seq] for lab_seq in true_labels\n",
        "    ]\n",
        "\n",
        "    results = metric.compute(predictions=true_predictions_str, references=true_labels_str)\n",
        "    return {\n",
        "        \"precision\": results[\"overall_precision\"],\n",
        "        \"recall\":    results[\"overall_recall\"],\n",
        "        \"f1\":        results[\"overall_f1\"],\n",
        "        \"accuracy\":  results[\"overall_accuracy\"],\n",
        "    }"
      ]
    },
    {
      "cell_type": "code",
      "execution_count": 11,
      "metadata": {},
      "outputs": [
        {
          "name": "stderr",
          "output_type": "stream",
          "text": [
            "/home/kyrylo/Code/WinstarsTestTask/lib/python3.10/site-packages/transformers/training_args.py:1594: FutureWarning: `evaluation_strategy` is deprecated and will be removed in version 4.46 of 🤗 Transformers. Use `eval_strategy` instead\n",
            "  warnings.warn(\n",
            "/tmp/ipykernel_62164/3515876956.py:11: FutureWarning: `tokenizer` is deprecated and will be removed in version 5.0.0 for `Trainer.__init__`. Use `processing_class` instead.\n",
            "  trainer = Trainer(\n"
          ]
        },
        {
          "ename": "KeyboardInterrupt",
          "evalue": "",
          "output_type": "error",
          "traceback": [
            "\u001b[0;31m---------------------------------------------------------------------------\u001b[0m",
            "\u001b[0;31mKeyboardInterrupt\u001b[0m                         Traceback (most recent call last)",
            "Cell \u001b[0;32mIn[11], line 21\u001b[0m\n\u001b[1;32m      1\u001b[0m training_args \u001b[38;5;241m=\u001b[39m TrainingArguments(\n\u001b[1;32m      2\u001b[0m     output_dir\u001b[38;5;241m=\u001b[39m\u001b[38;5;124m\"\u001b[39m\u001b[38;5;124mmy_bert_ner\u001b[39m\u001b[38;5;124m\"\u001b[39m,\n\u001b[1;32m      3\u001b[0m     evaluation_strategy\u001b[38;5;241m=\u001b[39m\u001b[38;5;124m\"\u001b[39m\u001b[38;5;124mepoch\u001b[39m\u001b[38;5;124m\"\u001b[39m,\n\u001b[0;32m   (...)\u001b[0m\n\u001b[1;32m      8\u001b[0m     weight_decay\u001b[38;5;241m=\u001b[39m\u001b[38;5;241m0.01\u001b[39m\n\u001b[1;32m      9\u001b[0m )\n\u001b[1;32m     11\u001b[0m trainer \u001b[38;5;241m=\u001b[39m Trainer(\n\u001b[1;32m     12\u001b[0m     model\u001b[38;5;241m=\u001b[39mmodel,\n\u001b[1;32m     13\u001b[0m     args\u001b[38;5;241m=\u001b[39mtraining_args,\n\u001b[0;32m   (...)\u001b[0m\n\u001b[1;32m     18\u001b[0m     compute_metrics\u001b[38;5;241m=\u001b[39mcompute_metrics\n\u001b[1;32m     19\u001b[0m )\n\u001b[0;32m---> 21\u001b[0m \u001b[43mtrainer\u001b[49m\u001b[38;5;241;43m.\u001b[39;49m\u001b[43mtrain\u001b[49m\u001b[43m(\u001b[49m\u001b[43m)\u001b[49m\n",
            "File \u001b[0;32m~/Code/WinstarsTestTask/lib/python3.10/site-packages/transformers/trainer.py:2241\u001b[0m, in \u001b[0;36mTrainer.train\u001b[0;34m(self, resume_from_checkpoint, trial, ignore_keys_for_eval, **kwargs)\u001b[0m\n\u001b[1;32m   2239\u001b[0m         hf_hub_utils\u001b[38;5;241m.\u001b[39menable_progress_bars()\n\u001b[1;32m   2240\u001b[0m \u001b[38;5;28;01melse\u001b[39;00m:\n\u001b[0;32m-> 2241\u001b[0m     \u001b[38;5;28;01mreturn\u001b[39;00m \u001b[43minner_training_loop\u001b[49m\u001b[43m(\u001b[49m\n\u001b[1;32m   2242\u001b[0m \u001b[43m        \u001b[49m\u001b[43margs\u001b[49m\u001b[38;5;241;43m=\u001b[39;49m\u001b[43margs\u001b[49m\u001b[43m,\u001b[49m\n\u001b[1;32m   2243\u001b[0m \u001b[43m        \u001b[49m\u001b[43mresume_from_checkpoint\u001b[49m\u001b[38;5;241;43m=\u001b[39;49m\u001b[43mresume_from_checkpoint\u001b[49m\u001b[43m,\u001b[49m\n\u001b[1;32m   2244\u001b[0m \u001b[43m        \u001b[49m\u001b[43mtrial\u001b[49m\u001b[38;5;241;43m=\u001b[39;49m\u001b[43mtrial\u001b[49m\u001b[43m,\u001b[49m\n\u001b[1;32m   2245\u001b[0m \u001b[43m        \u001b[49m\u001b[43mignore_keys_for_eval\u001b[49m\u001b[38;5;241;43m=\u001b[39;49m\u001b[43mignore_keys_for_eval\u001b[49m\u001b[43m,\u001b[49m\n\u001b[1;32m   2246\u001b[0m \u001b[43m    \u001b[49m\u001b[43m)\u001b[49m\n",
            "File \u001b[0;32m~/Code/WinstarsTestTask/lib/python3.10/site-packages/transformers/trainer.py:2548\u001b[0m, in \u001b[0;36mTrainer._inner_training_loop\u001b[0;34m(self, batch_size, args, resume_from_checkpoint, trial, ignore_keys_for_eval)\u001b[0m\n\u001b[1;32m   2541\u001b[0m context \u001b[38;5;241m=\u001b[39m (\n\u001b[1;32m   2542\u001b[0m     functools\u001b[38;5;241m.\u001b[39mpartial(\u001b[38;5;28mself\u001b[39m\u001b[38;5;241m.\u001b[39maccelerator\u001b[38;5;241m.\u001b[39mno_sync, model\u001b[38;5;241m=\u001b[39mmodel)\n\u001b[1;32m   2543\u001b[0m     \u001b[38;5;28;01mif\u001b[39;00m i \u001b[38;5;241m!=\u001b[39m \u001b[38;5;28mlen\u001b[39m(batch_samples) \u001b[38;5;241m-\u001b[39m \u001b[38;5;241m1\u001b[39m\n\u001b[1;32m   2544\u001b[0m     \u001b[38;5;129;01mand\u001b[39;00m \u001b[38;5;28mself\u001b[39m\u001b[38;5;241m.\u001b[39maccelerator\u001b[38;5;241m.\u001b[39mdistributed_type \u001b[38;5;241m!=\u001b[39m DistributedType\u001b[38;5;241m.\u001b[39mDEEPSPEED\n\u001b[1;32m   2545\u001b[0m     \u001b[38;5;28;01melse\u001b[39;00m contextlib\u001b[38;5;241m.\u001b[39mnullcontext\n\u001b[1;32m   2546\u001b[0m )\n\u001b[1;32m   2547\u001b[0m \u001b[38;5;28;01mwith\u001b[39;00m context():\n\u001b[0;32m-> 2548\u001b[0m     tr_loss_step \u001b[38;5;241m=\u001b[39m \u001b[38;5;28;43mself\u001b[39;49m\u001b[38;5;241;43m.\u001b[39;49m\u001b[43mtraining_step\u001b[49m\u001b[43m(\u001b[49m\u001b[43mmodel\u001b[49m\u001b[43m,\u001b[49m\u001b[43m \u001b[49m\u001b[43minputs\u001b[49m\u001b[43m,\u001b[49m\u001b[43m \u001b[49m\u001b[43mnum_items_in_batch\u001b[49m\u001b[43m)\u001b[49m\n\u001b[1;32m   2550\u001b[0m \u001b[38;5;28;01mif\u001b[39;00m (\n\u001b[1;32m   2551\u001b[0m     args\u001b[38;5;241m.\u001b[39mlogging_nan_inf_filter\n\u001b[1;32m   2552\u001b[0m     \u001b[38;5;129;01mand\u001b[39;00m \u001b[38;5;129;01mnot\u001b[39;00m is_torch_xla_available()\n\u001b[1;32m   2553\u001b[0m     \u001b[38;5;129;01mand\u001b[39;00m (torch\u001b[38;5;241m.\u001b[39misnan(tr_loss_step) \u001b[38;5;129;01mor\u001b[39;00m torch\u001b[38;5;241m.\u001b[39misinf(tr_loss_step))\n\u001b[1;32m   2554\u001b[0m ):\n\u001b[1;32m   2555\u001b[0m     \u001b[38;5;66;03m# if loss is nan or inf simply add the average of previous logged losses\u001b[39;00m\n\u001b[1;32m   2556\u001b[0m     tr_loss \u001b[38;5;241m=\u001b[39m tr_loss \u001b[38;5;241m+\u001b[39m tr_loss \u001b[38;5;241m/\u001b[39m (\u001b[38;5;241m1\u001b[39m \u001b[38;5;241m+\u001b[39m \u001b[38;5;28mself\u001b[39m\u001b[38;5;241m.\u001b[39mstate\u001b[38;5;241m.\u001b[39mglobal_step \u001b[38;5;241m-\u001b[39m \u001b[38;5;28mself\u001b[39m\u001b[38;5;241m.\u001b[39m_globalstep_last_logged)\n",
            "File \u001b[0;32m~/Code/WinstarsTestTask/lib/python3.10/site-packages/transformers/trainer.py:3740\u001b[0m, in \u001b[0;36mTrainer.training_step\u001b[0;34m(***failed resolving arguments***)\u001b[0m\n\u001b[1;32m   3737\u001b[0m \u001b[38;5;28;01mif\u001b[39;00m \u001b[38;5;28mself\u001b[39m\u001b[38;5;241m.\u001b[39maccelerator\u001b[38;5;241m.\u001b[39mdistributed_type \u001b[38;5;241m==\u001b[39m DistributedType\u001b[38;5;241m.\u001b[39mDEEPSPEED:\n\u001b[1;32m   3738\u001b[0m     kwargs[\u001b[38;5;124m\"\u001b[39m\u001b[38;5;124mscale_wrt_gas\u001b[39m\u001b[38;5;124m\"\u001b[39m] \u001b[38;5;241m=\u001b[39m \u001b[38;5;28;01mFalse\u001b[39;00m\n\u001b[0;32m-> 3740\u001b[0m \u001b[38;5;28;43mself\u001b[39;49m\u001b[38;5;241;43m.\u001b[39;49m\u001b[43maccelerator\u001b[49m\u001b[38;5;241;43m.\u001b[39;49m\u001b[43mbackward\u001b[49m\u001b[43m(\u001b[49m\u001b[43mloss\u001b[49m\u001b[43m,\u001b[49m\u001b[43m \u001b[49m\u001b[38;5;241;43m*\u001b[39;49m\u001b[38;5;241;43m*\u001b[39;49m\u001b[43mkwargs\u001b[49m\u001b[43m)\u001b[49m\n\u001b[1;32m   3742\u001b[0m \u001b[38;5;28;01mreturn\u001b[39;00m loss\u001b[38;5;241m.\u001b[39mdetach()\n",
            "File \u001b[0;32m~/Code/WinstarsTestTask/lib/python3.10/site-packages/accelerate/accelerator.py:1964\u001b[0m, in \u001b[0;36mAccelerator.backward\u001b[0;34m(self, loss, **kwargs)\u001b[0m\n\u001b[1;32m   1962\u001b[0m     \u001b[38;5;28mself\u001b[39m\u001b[38;5;241m.\u001b[39mscaler\u001b[38;5;241m.\u001b[39mscale(loss)\u001b[38;5;241m.\u001b[39mbackward(\u001b[38;5;241m*\u001b[39m\u001b[38;5;241m*\u001b[39mkwargs)\n\u001b[1;32m   1963\u001b[0m \u001b[38;5;28;01melse\u001b[39;00m:\n\u001b[0;32m-> 1964\u001b[0m     \u001b[43mloss\u001b[49m\u001b[38;5;241;43m.\u001b[39;49m\u001b[43mbackward\u001b[49m\u001b[43m(\u001b[49m\u001b[38;5;241;43m*\u001b[39;49m\u001b[38;5;241;43m*\u001b[39;49m\u001b[43mkwargs\u001b[49m\u001b[43m)\u001b[49m\n",
            "File \u001b[0;32m~/Code/WinstarsTestTask/lib/python3.10/site-packages/torch/_tensor.py:626\u001b[0m, in \u001b[0;36mTensor.backward\u001b[0;34m(self, gradient, retain_graph, create_graph, inputs)\u001b[0m\n\u001b[1;32m    616\u001b[0m \u001b[38;5;28;01mif\u001b[39;00m has_torch_function_unary(\u001b[38;5;28mself\u001b[39m):\n\u001b[1;32m    617\u001b[0m     \u001b[38;5;28;01mreturn\u001b[39;00m handle_torch_function(\n\u001b[1;32m    618\u001b[0m         Tensor\u001b[38;5;241m.\u001b[39mbackward,\n\u001b[1;32m    619\u001b[0m         (\u001b[38;5;28mself\u001b[39m,),\n\u001b[0;32m   (...)\u001b[0m\n\u001b[1;32m    624\u001b[0m         inputs\u001b[38;5;241m=\u001b[39minputs,\n\u001b[1;32m    625\u001b[0m     )\n\u001b[0;32m--> 626\u001b[0m \u001b[43mtorch\u001b[49m\u001b[38;5;241;43m.\u001b[39;49m\u001b[43mautograd\u001b[49m\u001b[38;5;241;43m.\u001b[39;49m\u001b[43mbackward\u001b[49m\u001b[43m(\u001b[49m\n\u001b[1;32m    627\u001b[0m \u001b[43m    \u001b[49m\u001b[38;5;28;43mself\u001b[39;49m\u001b[43m,\u001b[49m\u001b[43m \u001b[49m\u001b[43mgradient\u001b[49m\u001b[43m,\u001b[49m\u001b[43m \u001b[49m\u001b[43mretain_graph\u001b[49m\u001b[43m,\u001b[49m\u001b[43m \u001b[49m\u001b[43mcreate_graph\u001b[49m\u001b[43m,\u001b[49m\u001b[43m \u001b[49m\u001b[43minputs\u001b[49m\u001b[38;5;241;43m=\u001b[39;49m\u001b[43minputs\u001b[49m\n\u001b[1;32m    628\u001b[0m \u001b[43m\u001b[49m\u001b[43m)\u001b[49m\n",
            "File \u001b[0;32m~/Code/WinstarsTestTask/lib/python3.10/site-packages/torch/autograd/__init__.py:347\u001b[0m, in \u001b[0;36mbackward\u001b[0;34m(tensors, grad_tensors, retain_graph, create_graph, grad_variables, inputs)\u001b[0m\n\u001b[1;32m    342\u001b[0m     retain_graph \u001b[38;5;241m=\u001b[39m create_graph\n\u001b[1;32m    344\u001b[0m \u001b[38;5;66;03m# The reason we repeat the same comment below is that\u001b[39;00m\n\u001b[1;32m    345\u001b[0m \u001b[38;5;66;03m# some Python versions print out the first line of a multi-line function\u001b[39;00m\n\u001b[1;32m    346\u001b[0m \u001b[38;5;66;03m# calls in the traceback and some print out the last line\u001b[39;00m\n\u001b[0;32m--> 347\u001b[0m \u001b[43m_engine_run_backward\u001b[49m\u001b[43m(\u001b[49m\n\u001b[1;32m    348\u001b[0m \u001b[43m    \u001b[49m\u001b[43mtensors\u001b[49m\u001b[43m,\u001b[49m\n\u001b[1;32m    349\u001b[0m \u001b[43m    \u001b[49m\u001b[43mgrad_tensors_\u001b[49m\u001b[43m,\u001b[49m\n\u001b[1;32m    350\u001b[0m \u001b[43m    \u001b[49m\u001b[43mretain_graph\u001b[49m\u001b[43m,\u001b[49m\n\u001b[1;32m    351\u001b[0m \u001b[43m    \u001b[49m\u001b[43mcreate_graph\u001b[49m\u001b[43m,\u001b[49m\n\u001b[1;32m    352\u001b[0m \u001b[43m    \u001b[49m\u001b[43minputs\u001b[49m\u001b[43m,\u001b[49m\n\u001b[1;32m    353\u001b[0m \u001b[43m    \u001b[49m\u001b[43mallow_unreachable\u001b[49m\u001b[38;5;241;43m=\u001b[39;49m\u001b[38;5;28;43;01mTrue\u001b[39;49;00m\u001b[43m,\u001b[49m\n\u001b[1;32m    354\u001b[0m \u001b[43m    \u001b[49m\u001b[43maccumulate_grad\u001b[49m\u001b[38;5;241;43m=\u001b[39;49m\u001b[38;5;28;43;01mTrue\u001b[39;49;00m\u001b[43m,\u001b[49m\n\u001b[1;32m    355\u001b[0m \u001b[43m\u001b[49m\u001b[43m)\u001b[49m\n",
            "File \u001b[0;32m~/Code/WinstarsTestTask/lib/python3.10/site-packages/torch/autograd/graph.py:823\u001b[0m, in \u001b[0;36m_engine_run_backward\u001b[0;34m(t_outputs, *args, **kwargs)\u001b[0m\n\u001b[1;32m    821\u001b[0m     unregister_hooks \u001b[38;5;241m=\u001b[39m _register_logging_hooks_on_whole_graph(t_outputs)\n\u001b[1;32m    822\u001b[0m \u001b[38;5;28;01mtry\u001b[39;00m:\n\u001b[0;32m--> 823\u001b[0m     \u001b[38;5;28;01mreturn\u001b[39;00m \u001b[43mVariable\u001b[49m\u001b[38;5;241;43m.\u001b[39;49m\u001b[43m_execution_engine\u001b[49m\u001b[38;5;241;43m.\u001b[39;49m\u001b[43mrun_backward\u001b[49m\u001b[43m(\u001b[49m\u001b[43m  \u001b[49m\u001b[38;5;66;43;03m# Calls into the C++ engine to run the backward pass\u001b[39;49;00m\n\u001b[1;32m    824\u001b[0m \u001b[43m        \u001b[49m\u001b[43mt_outputs\u001b[49m\u001b[43m,\u001b[49m\u001b[43m \u001b[49m\u001b[38;5;241;43m*\u001b[39;49m\u001b[43margs\u001b[49m\u001b[43m,\u001b[49m\u001b[43m \u001b[49m\u001b[38;5;241;43m*\u001b[39;49m\u001b[38;5;241;43m*\u001b[39;49m\u001b[43mkwargs\u001b[49m\n\u001b[1;32m    825\u001b[0m \u001b[43m    \u001b[49m\u001b[43m)\u001b[49m  \u001b[38;5;66;03m# Calls into the C++ engine to run the backward pass\u001b[39;00m\n\u001b[1;32m    826\u001b[0m \u001b[38;5;28;01mfinally\u001b[39;00m:\n\u001b[1;32m    827\u001b[0m     \u001b[38;5;28;01mif\u001b[39;00m attach_logging_hooks:\n",
            "\u001b[0;31mKeyboardInterrupt\u001b[0m: "
          ]
        }
      ],
      "source": [
        "training_args = TrainingArguments(\n",
        "    output_dir=\"my_bert_ner\",\n",
        "    evaluation_strategy=\"epoch\",\n",
        "    learning_rate=2e-5,\n",
        "    per_device_train_batch_size=8,\n",
        "    per_device_eval_batch_size=8,\n",
        "    num_train_epochs=3,\n",
        "    weight_decay=0.01\n",
        ")\n",
        "\n",
        "trainer = Trainer(\n",
        "    model=model,\n",
        "    args=training_args,\n",
        "    train_dataset=train_dataset,     # must have .map()ed data\n",
        "    eval_dataset=val_dataset,       # optional but recommended\n",
        "    tokenizer=tokenizer,\n",
        "    data_collator=data_collator,\n",
        "    compute_metrics=compute_metrics\n",
        ")\n",
        "\n",
        "trainer.train()"
      ]
    }
  ],
  "metadata": {
    "colab": {
      "provenance": []
    },
    "kernelspec": {
      "display_name": "WinstarsTestTask",
      "language": "python",
      "name": "python3"
    },
    "language_info": {
      "codemirror_mode": {
        "name": "ipython",
        "version": 3
      },
      "file_extension": ".py",
      "mimetype": "text/x-python",
      "name": "python",
      "nbconvert_exporter": "python",
      "pygments_lexer": "ipython3",
      "version": "3.10.12"
    }
  },
  "nbformat": 4,
  "nbformat_minor": 0
}
