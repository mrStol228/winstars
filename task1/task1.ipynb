{
  "nbformat": 4,
  "nbformat_minor": 0,
  "metadata": {
    "colab": {
      "provenance": []
    },
    "kernelspec": {
      "name": "python3",
      "display_name": "Python 3"
    },
    "language_info": {
      "name": "python"
    }
  },
  "cells": [
    {
      "cell_type": "code",
      "source": [
        "!pip install tensorflow"
      ],
      "metadata": {
        "colab": {
          "base_uri": "https://localhost:8080/"
        },
        "id": "DCGbK5_S_5p5",
        "outputId": "6542f481-3e19-438b-a7cd-05df2d4de9c6"
      },
      "execution_count": null,
      "outputs": [
        {
          "output_type": "stream",
          "name": "stdout",
          "text": [
            "Requirement already satisfied: tensorflow in /usr/local/lib/python3.11/dist-packages (2.18.0)\n",
            "Requirement already satisfied: absl-py>=1.0.0 in /usr/local/lib/python3.11/dist-packages (from tensorflow) (1.4.0)\n",
            "Requirement already satisfied: astunparse>=1.6.0 in /usr/local/lib/python3.11/dist-packages (from tensorflow) (1.6.3)\n",
            "Requirement already satisfied: flatbuffers>=24.3.25 in /usr/local/lib/python3.11/dist-packages (from tensorflow) (25.2.10)\n",
            "Requirement already satisfied: gast!=0.5.0,!=0.5.1,!=0.5.2,>=0.2.1 in /usr/local/lib/python3.11/dist-packages (from tensorflow) (0.6.0)\n",
            "Requirement already satisfied: google-pasta>=0.1.1 in /usr/local/lib/python3.11/dist-packages (from tensorflow) (0.2.0)\n",
            "Requirement already satisfied: libclang>=13.0.0 in /usr/local/lib/python3.11/dist-packages (from tensorflow) (18.1.1)\n",
            "Requirement already satisfied: opt-einsum>=2.3.2 in /usr/local/lib/python3.11/dist-packages (from tensorflow) (3.4.0)\n",
            "Requirement already satisfied: packaging in /usr/local/lib/python3.11/dist-packages (from tensorflow) (24.2)\n",
            "Requirement already satisfied: protobuf!=4.21.0,!=4.21.1,!=4.21.2,!=4.21.3,!=4.21.4,!=4.21.5,<6.0.0dev,>=3.20.3 in /usr/local/lib/python3.11/dist-packages (from tensorflow) (4.25.6)\n",
            "Requirement already satisfied: requests<3,>=2.21.0 in /usr/local/lib/python3.11/dist-packages (from tensorflow) (2.32.3)\n",
            "Requirement already satisfied: setuptools in /usr/local/lib/python3.11/dist-packages (from tensorflow) (75.1.0)\n",
            "Requirement already satisfied: six>=1.12.0 in /usr/local/lib/python3.11/dist-packages (from tensorflow) (1.17.0)\n",
            "Requirement already satisfied: termcolor>=1.1.0 in /usr/local/lib/python3.11/dist-packages (from tensorflow) (2.5.0)\n",
            "Requirement already satisfied: typing-extensions>=3.6.6 in /usr/local/lib/python3.11/dist-packages (from tensorflow) (4.12.2)\n",
            "Requirement already satisfied: wrapt>=1.11.0 in /usr/local/lib/python3.11/dist-packages (from tensorflow) (1.17.2)\n",
            "Requirement already satisfied: grpcio<2.0,>=1.24.3 in /usr/local/lib/python3.11/dist-packages (from tensorflow) (1.70.0)\n",
            "Requirement already satisfied: tensorboard<2.19,>=2.18 in /usr/local/lib/python3.11/dist-packages (from tensorflow) (2.18.0)\n",
            "Requirement already satisfied: keras>=3.5.0 in /usr/local/lib/python3.11/dist-packages (from tensorflow) (3.8.0)\n",
            "Requirement already satisfied: numpy<2.1.0,>=1.26.0 in /usr/local/lib/python3.11/dist-packages (from tensorflow) (1.26.4)\n",
            "Requirement already satisfied: h5py>=3.11.0 in /usr/local/lib/python3.11/dist-packages (from tensorflow) (3.12.1)\n",
            "Requirement already satisfied: ml-dtypes<0.5.0,>=0.4.0 in /usr/local/lib/python3.11/dist-packages (from tensorflow) (0.4.1)\n",
            "Requirement already satisfied: tensorflow-io-gcs-filesystem>=0.23.1 in /usr/local/lib/python3.11/dist-packages (from tensorflow) (0.37.1)\n",
            "Requirement already satisfied: wheel<1.0,>=0.23.0 in /usr/local/lib/python3.11/dist-packages (from astunparse>=1.6.0->tensorflow) (0.45.1)\n",
            "Requirement already satisfied: rich in /usr/local/lib/python3.11/dist-packages (from keras>=3.5.0->tensorflow) (13.9.4)\n",
            "Requirement already satisfied: namex in /usr/local/lib/python3.11/dist-packages (from keras>=3.5.0->tensorflow) (0.0.8)\n",
            "Requirement already satisfied: optree in /usr/local/lib/python3.11/dist-packages (from keras>=3.5.0->tensorflow) (0.14.0)\n",
            "Requirement already satisfied: charset-normalizer<4,>=2 in /usr/local/lib/python3.11/dist-packages (from requests<3,>=2.21.0->tensorflow) (3.4.1)\n",
            "Requirement already satisfied: idna<4,>=2.5 in /usr/local/lib/python3.11/dist-packages (from requests<3,>=2.21.0->tensorflow) (3.10)\n",
            "Requirement already satisfied: urllib3<3,>=1.21.1 in /usr/local/lib/python3.11/dist-packages (from requests<3,>=2.21.0->tensorflow) (2.3.0)\n",
            "Requirement already satisfied: certifi>=2017.4.17 in /usr/local/lib/python3.11/dist-packages (from requests<3,>=2.21.0->tensorflow) (2025.1.31)\n",
            "Requirement already satisfied: markdown>=2.6.8 in /usr/local/lib/python3.11/dist-packages (from tensorboard<2.19,>=2.18->tensorflow) (3.7)\n",
            "Requirement already satisfied: tensorboard-data-server<0.8.0,>=0.7.0 in /usr/local/lib/python3.11/dist-packages (from tensorboard<2.19,>=2.18->tensorflow) (0.7.2)\n",
            "Requirement already satisfied: werkzeug>=1.0.1 in /usr/local/lib/python3.11/dist-packages (from tensorboard<2.19,>=2.18->tensorflow) (3.1.3)\n",
            "Requirement already satisfied: MarkupSafe>=2.1.1 in /usr/local/lib/python3.11/dist-packages (from werkzeug>=1.0.1->tensorboard<2.19,>=2.18->tensorflow) (3.0.2)\n",
            "Requirement already satisfied: markdown-it-py>=2.2.0 in /usr/local/lib/python3.11/dist-packages (from rich->keras>=3.5.0->tensorflow) (3.0.0)\n",
            "Requirement already satisfied: pygments<3.0.0,>=2.13.0 in /usr/local/lib/python3.11/dist-packages (from rich->keras>=3.5.0->tensorflow) (2.18.0)\n",
            "Requirement already satisfied: mdurl~=0.1 in /usr/local/lib/python3.11/dist-packages (from markdown-it-py>=2.2.0->rich->keras>=3.5.0->tensorflow) (0.1.2)\n"
          ]
        }
      ]
    },
    {
      "cell_type": "code",
      "execution_count": null,
      "metadata": {
        "id": "XIsudbQKMU2c"
      },
      "outputs": [],
      "source": [
        "import numpy as np\n",
        "from sklearn.ensemble import RandomForestClassifier\n",
        "from tensorflow.keras.models import Sequential\n",
        "from tensorflow.keras.layers import Dense, Conv2D, MaxPooling2D, Flatten\n",
        "from tensorflow.keras.utils import to_categorical\n",
        "from tensorflow.keras.datasets import mnist\n",
        "from abc import ABC, abstractmethod\n"
      ]
    },
    {
      "cell_type": "code",
      "source": [
        "class MnistClassifierInterface(ABC):\n",
        "    @abstractmethod\n",
        "    def train(self, X_train, y_train, X_val=None, y_val=None):\n",
        "        pass\n",
        "\n",
        "    @abstractmethod\n",
        "    def predict(self, X):\n",
        "        pass"
      ],
      "metadata": {
        "id": "hMpex44COZTQ"
      },
      "execution_count": null,
      "outputs": []
    },
    {
      "cell_type": "code",
      "source": [
        "class RandomForestMnistClassifier(MnistClassifierInterface):\n",
        "    def __init__(self, n_estimators=100, random_state=52):\n",
        "\n",
        "        self.n_estimators = n_estimators\n",
        "        self.random_state = random_state\n",
        "        self.model = RandomForestClassifier(n_estimators=self.n_estimators,\n",
        "                                            random_state=self.random_state)\n",
        "\n",
        "    def train(self, X_train, y_train, X_val=None, y_val=None):\n",
        "        X_train_reshaped = X_train.reshape(X_train.shape[0], -1)\n",
        "        self.model.fit(X_train_reshaped, y_train)\n",
        "\n",
        "        if X_val is not None and y_val is not None:\n",
        "            X_val_reshaped = X_val.reshape(X_val.shape[0], -1)\n",
        "            accuracy = self.model.score(X_val_reshaped, y_val)\n",
        "            print(f\"Validation accuracy (Random Forest): {accuracy:.4f}\")\n",
        "\n",
        "    def predict(self, X):\n",
        "        X_reshaped = X.reshape(X.shape[0], -1)\n",
        "        predictions = self.model.predict(X_reshaped)\n",
        "        return predictions"
      ],
      "metadata": {
        "id": "pC6QDcv0OhEL"
      },
      "execution_count": null,
      "outputs": []
    },
    {
      "cell_type": "code",
      "source": [
        "class NeuralNetworkMnistClassifier(MnistClassifierInterface):\n",
        "    def __init__(self, input_shape=(784,), num_classes=10, epochs=5, batch_size=128):\n",
        "        self.input_shape = input_shape\n",
        "        self.num_classes = num_classes\n",
        "        self.epochs = epochs\n",
        "        self.batch_size = batch_size\n",
        "        self.model = None\n",
        "\n",
        "        self._build_model()\n",
        "\n",
        "    def _build_model(self):\n",
        "        model = Sequential()\n",
        "        model.add(Dense(128, activation='relu', input_shape=self.input_shape))\n",
        "        model.add(Dense(64, activation='relu'))\n",
        "        model.add(Dense(self.num_classes, activation='softmax'))\n",
        "        model.compile(optimizer='adam',\n",
        "                      loss='categorical_crossentropy',\n",
        "                      metrics=['accuracy'])\n",
        "        self.model = model\n",
        "\n",
        "    def train(self, X_train, y_train, X_val=None, y_val=None):\n",
        "        X_train_reshaped = X_train.reshape(X_train.shape[0], -1).astype('float32')\n",
        "        X_train_reshaped /= 255.0\n",
        "        y_train_categorical = to_categorical(y_train, self.num_classes)\n",
        "\n",
        "        if X_val is not None and y_val is not None:\n",
        "            X_val_reshaped = X_val.reshape(X_val.shape[0], -1).astype('float32')\n",
        "            X_val_reshaped /= 255.0\n",
        "            y_val_categorical = to_categorical(y_val, self.num_classes)\n",
        "\n",
        "            self.model.fit(\n",
        "                X_train_reshaped, y_train_categorical,\n",
        "                validation_data=(X_val_reshaped, y_val_categorical),\n",
        "                epochs=self.epochs,\n",
        "                batch_size=self.batch_size,\n",
        "                verbose=1\n",
        "            )\n",
        "        else:\n",
        "            self.model.fit(\n",
        "                X_train_reshaped, y_train_categorical,\n",
        "                epochs=self.epochs,\n",
        "                batch_size=self.batch_size,\n",
        "                verbose=1\n",
        "            )\n",
        "\n",
        "    def predict(self, X):\n",
        "        X_reshaped = X.reshape(X.shape[0], -1).astype('float32')\n",
        "        X_reshaped /= 255.0\n",
        "        predictions_proba = self.model.predict(X_reshaped)\n",
        "        predictions = np.argmax(predictions_proba, axis=1)\n",
        "        return predictions"
      ],
      "metadata": {
        "id": "8ha07NmnmTe7"
      },
      "execution_count": null,
      "outputs": []
    },
    {
      "cell_type": "code",
      "source": [
        "class CNNMnistClassifier(MnistClassifierInterface):\n",
        "    def __init__(self, input_shape=(28, 28, 1), num_classes=10, epochs=5, batch_size=128):\n",
        "        self.input_shape = input_shape\n",
        "        self.num_classes = num_classes\n",
        "        self.epochs = epochs\n",
        "        self.batch_size = batch_size\n",
        "        self.model = None\n",
        "\n",
        "        self._build_model()\n",
        "\n",
        "    def _build_model(self):\n",
        "        model = Sequential()\n",
        "        model.add(Conv2D(32, kernel_size=(3, 3), activation='relu', input_shape=self.input_shape))\n",
        "        model.add(MaxPooling2D(pool_size=(2, 2)))\n",
        "        model.add(Conv2D(64, kernel_size=(3, 3), activation='relu'))\n",
        "        model.add(MaxPooling2D(pool_size=(2, 2)))\n",
        "        model.add(Flatten())\n",
        "        model.add(Dense(128, activation='relu'))\n",
        "        model.add(Dense(self.num_classes, activation='softmax'))\n",
        "\n",
        "        model.compile(optimizer='adam',\n",
        "                      loss='categorical_crossentropy',\n",
        "                      metrics=['accuracy'])\n",
        "\n",
        "        self.model = model\n",
        "\n",
        "    def train(self, X_train, y_train, X_val=None, y_val=None):\n",
        "        if len(X_train.shape) < 4:\n",
        "            X_train = X_train.reshape(X_train.shape[0], 28, 28, 1)\n",
        "        X_train = X_train.astype('float32') / 255.0\n",
        "        y_train_categorical = to_categorical(y_train, self.num_classes)\n",
        "\n",
        "        if X_val is not None and y_val is not None:\n",
        "            if len(X_val.shape) < 4:\n",
        "                X_val = X_val.reshape(X_val.shape[0], 28, 28, 1)\n",
        "            X_val = X_val.astype('float32') / 255.0\n",
        "            y_val_categorical = to_categorical(y_val, self.num_classes)\n",
        "\n",
        "            self.model.fit(\n",
        "                X_train,\n",
        "                y_train_categorical,\n",
        "                validation_data=(X_val, y_val_categorical),\n",
        "                epochs=self.epochs,\n",
        "                batch_size=self.batch_size,\n",
        "                verbose=1\n",
        "            )\n",
        "        else:\n",
        "            self.model.fit(\n",
        "                X_train,\n",
        "                y_train_categorical,\n",
        "                epochs=self.epochs,\n",
        "                batch_size=self.batch_size,\n",
        "                verbose=1\n",
        "            )\n",
        "\n",
        "    def predict(self, X):\n",
        "        if len(X.shape) < 4:\n",
        "            X = X.reshape(X.shape[0], 28, 28, 1)\n",
        "        X = X.astype('float32') / 255.0\n",
        "        predictions_proba = self.model.predict(X)\n",
        "        predictions = np.argmax(predictions_proba, axis=1)\n",
        "        return predictions\n"
      ],
      "metadata": {
        "id": "uqobhJsnmUY6"
      },
      "execution_count": null,
      "outputs": []
    },
    {
      "cell_type": "code",
      "source": [
        "class MnistClassifier:\n",
        "    def __init__(self, algorithm='cnn', **kwargs):\n",
        "        self.algorithm = algorithm\n",
        "        self.model = None\n",
        "\n",
        "        if algorithm == 'rf':\n",
        "            self.model = RandomForestMnistClassifier(**kwargs)\n",
        "        elif algorithm == 'nn':\n",
        "            self.model = NeuralNetworkMnistClassifier(**kwargs)\n",
        "        elif algorithm == 'cnn':\n",
        "            self.model = CNNMnistClassifier(**kwargs)\n",
        "        else:\n",
        "            raise ValueError(\"Only 'rf', 'nn' or 'cnn'.\")\n",
        "\n",
        "    def train(self, X_train, y_train, X_val=None, y_val=None):\n",
        "        self.model.train(X_train, y_train, X_val, y_val)\n",
        "\n",
        "    def predict(self, X):\n",
        "        return self.model.predict(X)\n"
      ],
      "metadata": {
        "id": "KC0-94TnmYEC"
      },
      "execution_count": null,
      "outputs": []
    },
    {
      "cell_type": "code",
      "source": [
        "def main():\n",
        "    (X_train, y_train), (X_test, y_test) = mnist.load_data()\n",
        "    X_val = X_train[-5000:]\n",
        "    y_val = y_train[-5000:]\n",
        "    X_train = X_train[:-5000]\n",
        "    y_train = y_train[:-5000]\n",
        "\n",
        "    rf_classifier = MnistClassifier(algorithm='rf', n_estimators=50, random_state=42)\n",
        "\n",
        "    print(\"We train Random Forest...\")\n",
        "    rf_classifier.train(X_train, y_train, X_val, y_val)\n",
        "    rf_predictions = rf_classifier.predict(X_test)\n",
        "    rf_accuracy = np.mean(rf_predictions == y_test)\n",
        "    print(f\"Random Forest accuracy on test set: {rf_accuracy:.4f}\\n\")\n",
        "\n",
        "    nn_classifier = MnistClassifier(algorithm='nn', epochs=3, batch_size=128)\n",
        "    print(\"Training a fully connected neural network (NN)...\")\n",
        "    nn_classifier.train(X_train, y_train, X_val, y_val)\n",
        "    nn_predictions = nn_classifier.predict(X_test)\n",
        "    nn_accuracy = np.mean(nn_predictions == y_test)\n",
        "    print(f\"NN accuracy on test set: {nn_accuracy:.4f}\\n\")\n",
        "\n",
        "    cnn_classifier = MnistClassifier(algorithm='cnn', epochs=3, batch_size=128)\n",
        "    print(\"Training a convolutional neural network (CNN)...\")\n",
        "    cnn_classifier.train(X_train, y_train, X_val, y_val)\n",
        "    cnn_predictions = cnn_classifier.predict(X_test)\n",
        "    cnn_accuracy = np.mean(cnn_predictions == y_test)\n",
        "    print(f\"CNN accuracy on test set: {cnn_accuracy:.4f}\")\n",
        "\n",
        "if __name__ == \"__main__\":\n",
        "    main()\n"
      ],
      "metadata": {
        "colab": {
          "base_uri": "https://localhost:8080/"
        },
        "id": "S39VkQAfmbVv",
        "outputId": "4d262cad-0214-4c95-edd7-9204482e1394"
      },
      "execution_count": null,
      "outputs": [
        {
          "output_type": "stream",
          "name": "stdout",
          "text": [
            "Downloading data from https://storage.googleapis.com/tensorflow/tf-keras-datasets/mnist.npz\n",
            "\u001b[1m11490434/11490434\u001b[0m \u001b[32m━━━━━━━━━━━━━━━━━━━━\u001b[0m\u001b[37m\u001b[0m \u001b[1m2s\u001b[0m 0us/step\n",
            "We train Random Forest...\n",
            "Validation accuracy (Random Forest): 0.9716\n",
            "Random Forest accuracy on test set: 0.9675\n",
            "\n",
            "Training a fully connected neural network (NN)...\n"
          ]
        },
        {
          "output_type": "stream",
          "name": "stderr",
          "text": [
            "/usr/local/lib/python3.11/dist-packages/keras/src/layers/core/dense.py:87: UserWarning: Do not pass an `input_shape`/`input_dim` argument to a layer. When using Sequential models, prefer using an `Input(shape)` object as the first layer in the model instead.\n",
            "  super().__init__(activity_regularizer=activity_regularizer, **kwargs)\n"
          ]
        },
        {
          "output_type": "stream",
          "name": "stdout",
          "text": [
            "Epoch 1/3\n",
            "\u001b[1m430/430\u001b[0m \u001b[32m━━━━━━━━━━━━━━━━━━━━\u001b[0m\u001b[37m\u001b[0m \u001b[1m4s\u001b[0m 6ms/step - accuracy: 0.8147 - loss: 0.6356 - val_accuracy: 0.9616 - val_loss: 0.1411\n",
            "Epoch 2/3\n",
            "\u001b[1m430/430\u001b[0m \u001b[32m━━━━━━━━━━━━━━━━━━━━\u001b[0m\u001b[37m\u001b[0m \u001b[1m2s\u001b[0m 5ms/step - accuracy: 0.9558 - loss: 0.1511 - val_accuracy: 0.9728 - val_loss: 0.1002\n",
            "Epoch 3/3\n",
            "\u001b[1m430/430\u001b[0m \u001b[32m━━━━━━━━━━━━━━━━━━━━\u001b[0m\u001b[37m\u001b[0m \u001b[1m4s\u001b[0m 8ms/step - accuracy: 0.9706 - loss: 0.1015 - val_accuracy: 0.9728 - val_loss: 0.0950\n",
            "\u001b[1m313/313\u001b[0m \u001b[32m━━━━━━━━━━━━━━━━━━━━\u001b[0m\u001b[37m\u001b[0m \u001b[1m1s\u001b[0m 2ms/step\n",
            "NN accuracy on test set: 0.9699\n",
            "\n",
            "Training a convolutional neural network (CNN)...\n"
          ]
        },
        {
          "output_type": "stream",
          "name": "stderr",
          "text": [
            "/usr/local/lib/python3.11/dist-packages/keras/src/layers/convolutional/base_conv.py:107: UserWarning: Do not pass an `input_shape`/`input_dim` argument to a layer. When using Sequential models, prefer using an `Input(shape)` object as the first layer in the model instead.\n",
            "  super().__init__(activity_regularizer=activity_regularizer, **kwargs)\n"
          ]
        },
        {
          "output_type": "stream",
          "name": "stdout",
          "text": [
            "Epoch 1/3\n",
            "\u001b[1m430/430\u001b[0m \u001b[32m━━━━━━━━━━━━━━━━━━━━\u001b[0m\u001b[37m\u001b[0m \u001b[1m44s\u001b[0m 98ms/step - accuracy: 0.8521 - loss: 0.5096 - val_accuracy: 0.9780 - val_loss: 0.0752\n",
            "Epoch 2/3\n",
            "\u001b[1m430/430\u001b[0m \u001b[32m━━━━━━━━━━━━━━━━━━━━\u001b[0m\u001b[37m\u001b[0m \u001b[1m82s\u001b[0m 98ms/step - accuracy: 0.9810 - loss: 0.0594 - val_accuracy: 0.9860 - val_loss: 0.0511\n",
            "Epoch 3/3\n",
            "\u001b[1m430/430\u001b[0m \u001b[32m━━━━━━━━━━━━━━━━━━━━\u001b[0m\u001b[37m\u001b[0m \u001b[1m42s\u001b[0m 97ms/step - accuracy: 0.9872 - loss: 0.0392 - val_accuracy: 0.9874 - val_loss: 0.0447\n",
            "\u001b[1m313/313\u001b[0m \u001b[32m━━━━━━━━━━━━━━━━━━━━\u001b[0m\u001b[37m\u001b[0m \u001b[1m4s\u001b[0m 12ms/step\n",
            "CNN accuracy on test set: 0.9860\n"
          ]
        }
      ]
    }
  ]
}